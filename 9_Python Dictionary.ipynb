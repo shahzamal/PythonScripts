{
 "cells": [
  {
   "cell_type": "markdown",
   "id": "7905e755",
   "metadata": {},
   "source": [
    "# Dictionary\n",
    "A dictionary is a collection which is ordered*, changeable and do not allow duplicates.In key, dictionaries are used to store data values.Each key is separated from its value by a colon (:), the items are separated by commas, and the whole thing is enclosed in curly braces.Values may not be unique within a dictionary, but keys are."
   ]
  },
  {
   "cell_type": "code",
   "execution_count": 3,
   "id": "7fa1f683",
   "metadata": {},
   "outputs": [
    {
     "name": "stdout",
     "output_type": "stream",
     "text": [
      "{'Brand': 'Apple', 'Model': 'A2638', 'Year': '2021'}\n"
     ]
    }
   ],
   "source": [
    "#Creat a dictionary\n",
    "dic={\n",
    "    \"Brand\":\"Apple\",\n",
    "    \"Model\":\"A2638\",\n",
    "    \"Year\" :\"2021\"\n",
    "}\n",
    "print(dic)"
   ]
  },
  {
   "cell_type": "markdown",
   "id": "9a2ce72b",
   "metadata": {},
   "source": [
    "## Accessing Values in Dictionary\n",
    "To access dictionary elements, we can use the familiar square brackets along with the key to obtain its value. Following is a simple example −"
   ]
  },
  {
   "cell_type": "code",
   "execution_count": 4,
   "id": "38db9528",
   "metadata": {},
   "outputs": [
    {
     "name": "stdout",
     "output_type": "stream",
     "text": [
      "Brand:  Apple\n",
      "Model:  A2638\n"
     ]
    }
   ],
   "source": [
    "dic={\n",
    "    \"Brand\":\"Apple\",\n",
    "    \"Model\":\"A2638\",\n",
    "    \"Year\" :\"2021\"\n",
    "}\n",
    "\n",
    "print(\"Brand: \",dic[\"Brand\"])\n",
    "print(\"Model: \",dic[\"Model\"])"
   ]
  },
  {
   "cell_type": "markdown",
   "id": "9c9be504",
   "metadata": {},
   "source": [
    "## Updating Dictionary\n",
    "Dictionaries are changeable, meaning that we can change, add or remove items after the dictionary has been created."
   ]
  },
  {
   "cell_type": "code",
   "execution_count": 10,
   "id": "037e3ed5",
   "metadata": {},
   "outputs": [
    {
     "name": "stdout",
     "output_type": "stream",
     "text": [
      "{'Brand': 'Samsung', 'Model': 'SM-S908B', 'Year': '2022', 'Chipset': 'Qualcomm'}\n"
     ]
    }
   ],
   "source": [
    "dic={\n",
    "    \"Brand\":\"Apple\",\n",
    "    \"Model\":\"A2638\",\n",
    "    \"Year\" :\"2021\"\n",
    "}\n",
    "\n",
    "#Update existing data\n",
    "dic[\"Brand\"]=\"Samsung\" \n",
    "dic[\"Model\"]=\"SM-S908SM-S908BB\"\n",
    "dic[\"Year\"]=\"2022\"\n",
    "dic[\"Chipset\"]=\"Qualcomm\" #Add new data\n",
    "print(dic)"
   ]
  },
  {
   "cell_type": "markdown",
   "id": "c65af0fd",
   "metadata": {},
   "source": [
    "## Delete Dictionary Elements\n",
    "There are several methods to remove items from a dictionary:"
   ]
  },
  {
   "cell_type": "code",
   "execution_count": 11,
   "id": "62cb499c",
   "metadata": {
    "scrolled": true
   },
   "outputs": [
    {
     "name": "stdout",
     "output_type": "stream",
     "text": [
      "{'Model': 'A2638', 'Year': '2021'}\n"
     ]
    }
   ],
   "source": [
    "dic={\n",
    "    \"Brand\":\"Apple\",\n",
    "    \"Model\":\"A2638\",\n",
    "    \"Year\" :\"2021\"\n",
    "}\n",
    "#The del keyword removes the item with the specified key name\n",
    "del dic[\"Brand\"]\n",
    "print(dic)"
   ]
  },
  {
   "cell_type": "markdown",
   "id": "b45903b3",
   "metadata": {},
   "source": [
    "The del keyword can also delete the dictionary completely:"
   ]
  },
  {
   "cell_type": "code",
   "execution_count": 13,
   "id": "d42631e8",
   "metadata": {},
   "outputs": [
    {
     "ename": "NameError",
     "evalue": "name 'dic' is not defined",
     "output_type": "error",
     "traceback": [
      "\u001b[1;31m---------------------------------------------------------------------------\u001b[0m",
      "\u001b[1;31mNameError\u001b[0m                                 Traceback (most recent call last)",
      "\u001b[1;32m~\\AppData\\Local\\Temp/ipykernel_5676/3366504378.py\u001b[0m in \u001b[0;36m<module>\u001b[1;34m\u001b[0m\n\u001b[0;32m      5\u001b[0m }\n\u001b[0;32m      6\u001b[0m \u001b[1;32mdel\u001b[0m \u001b[0mdic\u001b[0m\u001b[1;33m\u001b[0m\u001b[1;33m\u001b[0m\u001b[0m\n\u001b[1;32m----> 7\u001b[1;33m \u001b[0mprint\u001b[0m\u001b[1;33m(\u001b[0m\u001b[0mdic\u001b[0m\u001b[1;33m)\u001b[0m \u001b[1;31m##this will cause an error because \"dic\" no longer exists.\u001b[0m\u001b[1;33m\u001b[0m\u001b[1;33m\u001b[0m\u001b[0m\n\u001b[0m",
      "\u001b[1;31mNameError\u001b[0m: name 'dic' is not defined"
     ]
    }
   ],
   "source": [
    "dic={\n",
    "    \"Brand\":\"Apple\",\n",
    "    \"Model\":\"A2638\",\n",
    "    \"Year\" :\"2021\"\n",
    "}\n",
    "del dic\n",
    "print(dic) ##this will cause an error because \"dic\" no longer exists."
   ]
  },
  {
   "cell_type": "code",
   "execution_count": 14,
   "id": "94506e85",
   "metadata": {},
   "outputs": [
    {
     "name": "stdout",
     "output_type": "stream",
     "text": [
      "{}\n"
     ]
    }
   ],
   "source": [
    "#The clear() method empties the dictionary\n",
    "dic={\n",
    "    \"Brand\":\"Apple\",\n",
    "    \"Model\":\"A2638\",\n",
    "    \"Year\" :\"2021\"\n",
    "}\n",
    "dic.clear()\n",
    "print(dic)"
   ]
  },
  {
   "cell_type": "markdown",
   "id": "de1ac7c3",
   "metadata": {},
   "source": [
    "## Properties of Dictionary Keys\n",
    "Dictionary values have no restrictions.There are two important points to remember about dictionary keys −<br>\n",
    "1.There can't be more than one entry per key. That is to say, no duplicate keys are permitted. If two keys are found during an assignment, the last assignment wins.Example-"
   ]
  },
  {
   "cell_type": "code",
   "execution_count": 25,
   "id": "a3bae91e",
   "metadata": {},
   "outputs": [
    {
     "name": "stdout",
     "output_type": "stream",
     "text": [
      "{'brand': 'Oneplus', 'model': 'SM-S908B', 'year': 2022}\n"
     ]
    }
   ],
   "source": [
    "thisdict = {\n",
    "  \"brand\": \"Samsung\",\n",
    "  \"model\": \"SM-S908B\",\n",
    "  \"year\": 2022,\n",
    "  \"brand\": \"Oneplus\"\n",
    "}\n",
    "print(thisdict)"
   ]
  },
  {
   "cell_type": "markdown",
   "id": "64331250",
   "metadata": {},
   "source": [
    "2.Keys must be immutable. Which means you can use strings, numbers or tuples as dictionary keys but something like ['key'] is not allowed."
   ]
  },
  {
   "cell_type": "markdown",
   "id": "45ebc2cc",
   "metadata": {},
   "source": [
    "## Built-in Dictionary Functions & Methods\n",
    "Python includes the following dictionary functions −\n",
    "\n",
    "|Serial no.||Function||Description|\n",
    "|:---||:---||:---|\n",
    "|1||cmp(dict1, dict2)||Compares elements of both dict.|\n",
    "|2||len(dict)||Gives the total length of the dictionary. This would be equal to the number of <br>items in the dictionary.|\n",
    "|3||str(dict)||Produces a printable string representation of a dictionary|\n",
    "|4||type(variable)||Returns the type of the passed variable. If passed variable is dictionary,then <br>it would return a dictionary type.|\n",
    "\n",
    "Python includes following dictionary methods −\n",
    "\n",
    "|Serial no.||Methods||Description|\n",
    "|:---||:---||:---|\n",
    "|1||dict.clear()||Removes all elements of dictionary dict|\n",
    "|2||dict.copy()||Returns a shallow copy of dictionary dict|\n",
    "|3||dict.fromkeys()||Create a new dictionary with keys from seq and values set to value.|\n",
    "|4||dict.get(key, default=None)||For key key, returns value or default if key not in dictionary|\n",
    "|5||dict.has_key(key)||Returns true if key in dictionary dict, false otherwise|\n",
    "|6||dict.items()||Returns a list of dict's (key, value) tuple pairs|\n",
    "|7||dict.keys()||Returns list of dictionary dict's keys|\n",
    "|8||dict.setdefault(key, default=None)||Similar to get(), but will set dict[key]=default if key is not already in dict|\n",
    "|9||dict.update(dict2)||Adds dictionary dict2's key-values pairs to dict|\n",
    "|10||dict.values()||Returns list of dictionary dict's values|"
   ]
  },
  {
   "cell_type": "code",
   "execution_count": null,
   "id": "b38f310b",
   "metadata": {},
   "outputs": [],
   "source": []
  }
 ],
 "metadata": {
  "kernelspec": {
   "display_name": "Python 3 (ipykernel)",
   "language": "python",
   "name": "python3"
  },
  "language_info": {
   "codemirror_mode": {
    "name": "ipython",
    "version": 3
   },
   "file_extension": ".py",
   "mimetype": "text/x-python",
   "name": "python",
   "nbconvert_exporter": "python",
   "pygments_lexer": "ipython3",
   "version": "3.9.7"
  }
 },
 "nbformat": 4,
 "nbformat_minor": 5
}
