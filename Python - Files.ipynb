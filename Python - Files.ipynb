{
 "cells": [
  {
   "cell_type": "markdown",
   "id": "b1ba1c58",
   "metadata": {},
   "source": [
    "# Files I/O\n",
    "This chapter covers all of Python's basic I/O functions.\n",
    "### User Input\n",
    "Python allows for user input.So we can ask the user for input.The name is asked in the following example, and after entered, the name is printed on the screen."
   ]
  },
  {
   "cell_type": "code",
   "execution_count": 3,
   "id": "6a15d491",
   "metadata": {},
   "outputs": [
    {
     "name": "stdout",
     "output_type": "stream",
     "text": [
      "Enter your name: Sayem\n",
      "Given name is  Sayem\n"
     ]
    }
   ],
   "source": [
    "name=input(\"Enter your name: \")\n",
    "print(\"Given name is \",name)"
   ]
  },
  {
   "cell_type": "markdown",
   "id": "5655bd1d",
   "metadata": {},
   "source": [
    "#### Using split() method \n",
    "This function allows the collection of multiple inputs from users. It divides the provided input using the separator specified. Any white space acts as a separator if no separator is specified."
   ]
  },
  {
   "cell_type": "code",
   "execution_count": 5,
   "id": "31b9d663",
   "metadata": {},
   "outputs": [
    {
     "name": "stdout",
     "output_type": "stream",
     "text": [
      "Enter your name and age :Sayem 22\n",
      "Given name is Sayem and age is  22\n"
     ]
    }
   ],
   "source": [
    "name,age=input(\"Enter your name and age :\").split()\n",
    "print(\"Given name is \"+name,\"and age is \",age)"
   ]
  },
  {
   "cell_type": "markdown",
   "id": "c2cd7fcc",
   "metadata": {},
   "source": [
    "## Opening and Closing Files\n",
    "We've been reading and writing to the standard input and output till now.By default, Python offers the essential functions and methods needed to manage files. The most of file manipulation can be done with a file object.\n",
    "### Python File Open\n",
    "We must first open a file with Python's built-in <b>open()</b> function before reading or writing to it. A file object is created with this function.The <b>open()</b> function takes two parameters; filename, and mode.A file can be opened in four different ways (modes).\n",
    "1. <span style=\"color:green;font-weight: bold;\">\"r\"</span> - <span style=\"color:orange;font-weight: bold;\">Read</span> - Default value.Opens a file for reading only; if the file does not exist, an error occurs.\n",
    "2. <span style=\"color:green;font-weight: bold;\">\"a\"</span> - <span style=\"color:orange;font-weight: bold;\">Append</span> - Opens a file for appending.It creates a new file for writing if it doesn't exist.\n",
    "3. <span style=\"color:green;font-weight: bold;\">\"w\"</span> - <span style=\"color:orange;font-weight: bold;\">Write</span> - Opens a file for writing.It creates a new file for writing if it doesn't exist.\n",
    "4. <span style=\"color:green;font-weight: bold;\">\"x\"</span> - <span style=\"color:orange;font-weight: bold;\">Create</span> -  Creates the specified file.If the provided file already exists, an error is returned.\n",
    "\n",
    "You can also specify whether the file should be handled in binary or text format.\n",
    "\n",
    "1. <span style=\"color:green;font-weight: bold;\">\"t\"</span> - <span style=\"color:orange;font-weight: bold;\">Text</span> - Default value. Text mode\n",
    "2. <span style=\"color:green;font-weight: bold;\">\"b\"</span> - <span style=\"color:orange;font-weight: bold;\">Binary</span> - Binary mode\n",
    "\n",
    "### The file Object Attributes\n",
    "\n",
    "|Sr.No.||Attribute||Description|\n",
    "|:---||:----||:----|\n",
    "|1||<b>file.closed</b>||Returns true if file is closed, false otherwise.|\n",
    "|2||<b>file.mode</b>||Returns access mode with which file was opened.|\n",
    "|3||<b>file.name</b>||Returns name of the file.|\n",
    "|4||<b>file.softspace</b>||Returns false if space explicitly required with print, true otherwise.|\n",
    "\n",
    "\n"
   ]
  },
  {
   "cell_type": "markdown",
   "id": "e6425c9f",
   "metadata": {},
   "source": [
    "## Example:"
   ]
  },
  {
   "cell_type": "code",
   "execution_count": 3,
   "id": "8c07faae",
   "metadata": {},
   "outputs": [
    {
     "name": "stdout",
     "output_type": "stream",
     "text": [
      "Name of the file:  hello.txt\n",
      "Closed or not :  False\n",
      "Opening mode :  r\n"
     ]
    }
   ],
   "source": [
    "# Open a file\n",
    "f=open(\"hello.txt\", \"r\")\n",
    "print(\"Name of the file: \", f.name)\n",
    "print(\"Closed or not : \", f.closed)\n",
    "print(\"Opening mode : \", f.mode)"
   ]
  },
  {
   "cell_type": "markdown",
   "id": "572737d4",
   "metadata": {},
   "source": [
    "#### Open a File on the Server\n",
    "When our file located in the same folder as Python:"
   ]
  },
  {
   "cell_type": "code",
   "execution_count": 23,
   "id": "593adfde",
   "metadata": {},
   "outputs": [
    {
     "name": "stdout",
     "output_type": "stream",
     "text": [
      "Hello from hello.txt file\n",
      "Now I am learning python.\n"
     ]
    }
   ],
   "source": [
    "# Open a file\n",
    "f = open(\"hello.txt\", \"r\")\n",
    "print(f.read())"
   ]
  },
  {
   "cell_type": "markdown",
   "id": "82a2ca1f",
   "metadata": {},
   "source": [
    "If the file is located in a different location, we will have to specify the file path, like this:"
   ]
  },
  {
   "cell_type": "code",
   "execution_count": 24,
   "id": "7349c27d",
   "metadata": {},
   "outputs": [
    {
     "name": "stdout",
     "output_type": "stream",
     "text": [
      "Hello from different location.\n"
     ]
    }
   ],
   "source": [
    "# Open a file\n",
    "f = open(\"C://Users/USER/Desktop/hi.txt\",\"r\")\n",
    "print(f.read())"
   ]
  },
  {
   "cell_type": "markdown",
   "id": "bc6f360e",
   "metadata": {},
   "source": [
    "### Read Only Parts of the File\n",
    "By default the read() method returns the whole text, but we can also specify how many characters you want to return:"
   ]
  },
  {
   "cell_type": "code",
   "execution_count": 25,
   "id": "5e995587",
   "metadata": {},
   "outputs": [
    {
     "name": "stdout",
     "output_type": "stream",
     "text": [
      "Hello fro\n"
     ]
    }
   ],
   "source": [
    "# Open a file\n",
    "f = open(\"C://Users/USER/Desktop/hi.txt\",\"r\")\n",
    "print(f.read(9))"
   ]
  },
  {
   "cell_type": "markdown",
   "id": "9cf56f58",
   "metadata": {},
   "source": [
    "### Read Lines\n",
    "Using the <span style=\"color:green;font-weight: bold;\">readline()</span> function, it can return one line."
   ]
  },
  {
   "cell_type": "code",
   "execution_count": 26,
   "id": "052db5bf",
   "metadata": {},
   "outputs": [
    {
     "name": "stdout",
     "output_type": "stream",
     "text": [
      "Hello from hello.txt file\n",
      "\n"
     ]
    }
   ],
   "source": [
    "# Open a file\n",
    "f = open(\"hello.txt\",\"r\")\n",
    "print(f.readline())"
   ]
  },
  {
   "cell_type": "markdown",
   "id": "a5e88e33",
   "metadata": {},
   "source": [
    "We can read the whole file line by line by looping through the lines:"
   ]
  },
  {
   "cell_type": "code",
   "execution_count": 27,
   "id": "dd061b6a",
   "metadata": {},
   "outputs": [
    {
     "name": "stdout",
     "output_type": "stream",
     "text": [
      "Hello from hello.txt file\n",
      "\n",
      "Now I am learning python.\n"
     ]
    }
   ],
   "source": [
    "# Open a file\n",
    "f=open(\"hello.txt\",\"r\")\n",
    "for x in f:\n",
    "    print(x)"
   ]
  },
  {
   "cell_type": "markdown",
   "id": "d7959ba6",
   "metadata": {},
   "source": [
    "### Close Files\n",
    "When we are finished with a file, we should always close it."
   ]
  },
  {
   "cell_type": "code",
   "execution_count": 28,
   "id": "0e395750",
   "metadata": {},
   "outputs": [
    {
     "name": "stdout",
     "output_type": "stream",
     "text": [
      "Hello from hello.txt file\n",
      "\n"
     ]
    }
   ],
   "source": [
    "# Open a file\n",
    "f=open(\"hello.txt\",\"r\")\n",
    "print(f.readline())\n",
    "f.close()"
   ]
  },
  {
   "cell_type": "markdown",
   "id": "742ccbc6",
   "metadata": {},
   "source": [
    "<b>Note:</b>Changes to a file may not show up until we close it, due to buffering."
   ]
  },
  {
   "cell_type": "markdown",
   "id": "3fefeb7c",
   "metadata": {},
   "source": [
    "## Write to an Existing File\n",
    "We must pass a parameter to the <span style=\"color:red;font-weight: bold;\">open()</span> method to write to an existing file:  \n",
    "<span style=\"color:green;font-weight: bold;\">\"a\"</span> - <span style=\"color:orange;font-weight: bold;\">Append</span> - will append to the end of the file  \n",
    "<span style=\"color:green;font-weight: bold;\">\"w\"</span> - <span style=\"color:orange;font-weight: bold;\">Write</span> - will overwrite any existing content\n"
   ]
  },
  {
   "cell_type": "markdown",
   "id": "09735c5c",
   "metadata": {},
   "source": [
    "## Example:"
   ]
  },
  {
   "cell_type": "code",
   "execution_count": 31,
   "id": "5c8290f3",
   "metadata": {},
   "outputs": [
    {
     "name": "stdout",
     "output_type": "stream",
     "text": [
      "Hello from hello.txt file\n",
      "Now I am learning python.It's easy to learn.\n"
     ]
    }
   ],
   "source": [
    "f=open(\"hello.txt\",\"a\")\n",
    "f.write(\"It's easy to learn.\")\n",
    "f.close()\n",
    "#open and read the file after the appending:\n",
    "x=open(\"hello.txt\",\"r\")\n",
    "print(x.read())"
   ]
  },
  {
   "cell_type": "code",
   "execution_count": 33,
   "id": "d4ca3f24",
   "metadata": {},
   "outputs": [
    {
     "name": "stdout",
     "output_type": "stream",
     "text": [
      "All text are deleted that we wrote.\n"
     ]
    }
   ],
   "source": [
    "f=open(\"C://Users/USER/Desktop/hi.txt\",\"w\")\n",
    "f.write(\"All text are deleted that we wrote.\")\n",
    "f.close()\n",
    "#open and read the file after the appending:\n",
    "x=open(\"C://Users/USER/Desktop/hi.txt\",\"r\")\n",
    "print(x.read())"
   ]
  },
  {
   "cell_type": "markdown",
   "id": "f65e2484",
   "metadata": {},
   "source": [
    "## Create a New File\n",
    "To create a new file in Python, use the <span style=\"color:red;font-weight: bold;\">open()</span> method, with one of the following parameters:  \n",
    "<span style=\"color:green;font-weight: bold;\">\"a\"</span> - <span style=\"color:orange;font-weight: bold;\">Append</span> - Opens a file for appending.It creates a new file for writing if it doesn't exist.   \n",
    "<span style=\"color:green;font-weight: bold;\">\"w\"</span> - <span style=\"color:orange;font-weight: bold;\">Write</span> - Opens a file for writing.It creates a new file for writing if it doesn't exist.   \n",
    "<span style=\"color:green;font-weight: bold;\">\"x\"</span> - <span style=\"color:orange;font-weight: bold;\">Create</span> -  Creates the specified file.If the provided file already exists, an error is returned.  \n",
    "### Example\n",
    "Create a file called \"new.txt\":\n",
    "\n",
    "```python\n",
    "f = open(\"new.txt\", \"x\")\n",
    "```\n",
    "<b>Result:</b> a new empty file is created!<br>      \n",
    "<b>Example:</b>  \n",
    "Create a new file if it does not exist:\n",
    "\n",
    "```python\n",
    "f = open(\"new.txt\", \"w\")\n",
    "```\n"
   ]
  },
  {
   "cell_type": "markdown",
   "id": "0d7bf04d",
   "metadata": {},
   "source": [
    "## Delete a File\n",
    "To delete a file, we must import the OS module, and run its <span style=\"color:red;font-weight: bold;\">os.remove()</span> function:  \n",
    "Remove the file \"hi.txt\":"
   ]
  },
  {
   "cell_type": "code",
   "execution_count": 37,
   "id": "710bb663",
   "metadata": {},
   "outputs": [
    {
     "name": "stdout",
     "output_type": "stream",
     "text": [
      "Successfully deleted\n"
     ]
    }
   ],
   "source": [
    "import os\n",
    "os.remove(\"C://Users/USER/Desktop/hi2.txt\")\n",
    "print(\"Successfully deleted\")"
   ]
  }
 ],
 "metadata": {
  "kernelspec": {
   "display_name": "Python 3 (ipykernel)",
   "language": "python",
   "name": "python3"
  },
  "language_info": {
   "codemirror_mode": {
    "name": "ipython",
    "version": 3
   },
   "file_extension": ".py",
   "mimetype": "text/x-python",
   "name": "python",
   "nbconvert_exporter": "python",
   "pygments_lexer": "ipython3",
   "version": "3.9.7"
  }
 },
 "nbformat": 4,
 "nbformat_minor": 5
}
