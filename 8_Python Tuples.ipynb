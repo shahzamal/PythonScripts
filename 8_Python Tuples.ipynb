{
 "cells": [
  {
   "cell_type": "markdown",
   "id": "e20f8def",
   "metadata": {},
   "source": [
    "# Tuples\n",
    "Tuples are used to store multiple items in a single variable.Tuple items are ordered, unchangeable, and allow duplicate values.Tuples are written with round brackets. For example −"
   ]
  },
  {
   "cell_type": "code",
   "execution_count": 1,
   "id": "17ea053c",
   "metadata": {},
   "outputs": [
    {
     "name": "stdout",
     "output_type": "stream",
     "text": [
      "(120, 'Python', 10.5, 'A')\n"
     ]
    }
   ],
   "source": [
    "tuple1=(120,'Python',10.5,'A')\n",
    "print(tuple1)"
   ]
  },
  {
   "cell_type": "markdown",
   "id": "4d7cd8d0",
   "metadata": {},
   "source": [
    "## Accessing Values in Tuples\n",
    "To get values from a tuple, use square brackets for slicing and the index or indices to get the values that are accessible at that index.For example −"
   ]
  },
  {
   "cell_type": "code",
   "execution_count": 5,
   "id": "366d52f5",
   "metadata": {},
   "outputs": [
    {
     "name": "stdout",
     "output_type": "stream",
     "text": [
      "tuple1[0]: 120\n",
      "tuple1[1:3]: ('Python', 10.5)\n"
     ]
    }
   ],
   "source": [
    "tuple1=(120,'Python',10.5,'A')\n",
    "print(\"tuple1[0]:\",tuple1[0])\n",
    "print(\"tuple1[1:3]:\",tuple1[1:3])"
   ]
  },
  {
   "cell_type": "markdown",
   "id": "715fcbff",
   "metadata": {},
   "source": [
    "## Updating Tuples\n",
    "Tuples are unchangeable, meaning that we cannot change, add or remove items after the tuple has been created. We are able to take portions of existing tuples to create new tuples as the following example demonstrates −"
   ]
  },
  {
   "cell_type": "code",
   "execution_count": 6,
   "id": "f1196099",
   "metadata": {},
   "outputs": [
    {
     "name": "stdout",
     "output_type": "stream",
     "text": [
      "(1, 'A', 2, 'B')\n"
     ]
    }
   ],
   "source": [
    "t1=(1,'A')\n",
    "t2=(2,'B')\n",
    "t3=t1+t2\n",
    "print(t3)"
   ]
  },
  {
   "cell_type": "markdown",
   "id": "31433032",
   "metadata": {},
   "source": [
    "## Delete Tuple Elements\n",
    "Removing individual tuple elements is not possible.To explicitly remove an entire tuple, just use the del statement. For example −"
   ]
  },
  {
   "cell_type": "code",
   "execution_count": 7,
   "id": "6d92289f",
   "metadata": {},
   "outputs": [
    {
     "name": "stdout",
     "output_type": "stream",
     "text": [
      "(120, 'Python', 10.5, 'A')\n",
      "After deleting tuple1: \n"
     ]
    },
    {
     "ename": "NameError",
     "evalue": "name 'tuple1' is not defined",
     "output_type": "error",
     "traceback": [
      "\u001b[1;31m---------------------------------------------------------------------------\u001b[0m",
      "\u001b[1;31mNameError\u001b[0m                                 Traceback (most recent call last)",
      "\u001b[1;32m~\\AppData\\Local\\Temp/ipykernel_11796/179483980.py\u001b[0m in \u001b[0;36m<module>\u001b[1;34m\u001b[0m\n\u001b[0;32m      3\u001b[0m \u001b[1;32mdel\u001b[0m \u001b[0mtuple1\u001b[0m\u001b[1;33m\u001b[0m\u001b[1;33m\u001b[0m\u001b[0m\n\u001b[0;32m      4\u001b[0m \u001b[0mprint\u001b[0m\u001b[1;33m(\u001b[0m\u001b[1;34m\"After deleting tuple1: \"\u001b[0m\u001b[1;33m)\u001b[0m\u001b[1;33m\u001b[0m\u001b[1;33m\u001b[0m\u001b[0m\n\u001b[1;32m----> 5\u001b[1;33m \u001b[0mprint\u001b[0m\u001b[1;33m(\u001b[0m\u001b[0mtuple1\u001b[0m\u001b[1;33m)\u001b[0m\u001b[1;33m\u001b[0m\u001b[1;33m\u001b[0m\u001b[0m\n\u001b[0m",
      "\u001b[1;31mNameError\u001b[0m: name 'tuple1' is not defined"
     ]
    }
   ],
   "source": [
    "tuple1=(120,'Python',10.5,'A')\n",
    "print(tuple1)\n",
    "del tuple1\n",
    "print(\"After deleting tuple1: \")\n",
    "print(tuple1)"
   ]
  },
  {
   "cell_type": "markdown",
   "id": "4d8638f7",
   "metadata": {},
   "source": [
    "## Basic List Operations\n",
    "Tuples respond to the + and * operators much like strings.\n",
    "\n",
    "|Python Expression||Results||Description|\n",
    "|:----||:-----||:----|\n",
    "|len((1, 2, 3,'A'))||4||Length|\n",
    "|(1, 2, 3) + (4, 5, 6)||(1, 2, 3, 4, 5, 6)||Concatenation|\n",
    "|('Hi!') * 4||('Hi!', 'Hi!', 'Hi!', 'Hi!')||Repetition|\n",
    "|4 in (1, 2, 3,4)||True||Membership|\n",
    "|for x in (1, 2, 3): print x,||1 2 3||Iteration|"
   ]
  },
  {
   "cell_type": "markdown",
   "id": "c9324d90",
   "metadata": {},
   "source": [
    "## Indexing, Slicing, and Matrixes\n",
    "Because Tuples are sequences, indexing and slicing function in the same way they do for strings.Assuming following input −<br>\n",
    "L = ('python', 'Python', 'PYTHON!')\n",
    "\n",
    "|Python Expression||Results||Description|\n",
    "|:---||:----||:----|\n",
    "|L[2]||PYTHON!||Offsets start at zero|\n",
    "|L[-2]||Python||Negative: count from the right|\n",
    "|L[1:]||['Python','PYTHON!']||Slicing fetches sections|"
   ]
  },
  {
   "cell_type": "markdown",
   "id": "ffe13cf8",
   "metadata": {},
   "source": [
    "## No Enclosing Delimiters\n",
    "Any set of multiple objects, comma-separated, written without identifying symbols, i.e., brackets for lists, parentheses for tuples, etc., default to tuples, as indicated in these short examples −"
   ]
  },
  {
   "cell_type": "code",
   "execution_count": 9,
   "id": "963dfcd8",
   "metadata": {},
   "outputs": [
    {
     "name": "stdout",
     "output_type": "stream",
     "text": [
      "A 111 12.22 True\n"
     ]
    }
   ],
   "source": [
    "print('A',111,12.22,True)"
   ]
  },
  {
   "cell_type": "markdown",
   "id": "26f47771",
   "metadata": {},
   "source": [
    "## Built-in List Functions & Methods\n",
    "Python includes the following tuple functions −\n",
    "\n",
    "|Serial no||Function||Description|\n",
    "|:----||:----||:----|\n",
    "|1||cmp(tuple1, tuple2)||Compares elements of both lists.|\n",
    "|2||len(tuple)||Gives the total length of the list.|\n",
    "|3||max(tuple)||Returns item from the list with max value.|\n",
    "|4||min(tuple)||Returns item from the list with min value.|\n",
    "|5||tuple(seq)||Converts a tuple into list.|"
   ]
  },
  {
   "cell_type": "code",
   "execution_count": null,
   "id": "7a002434",
   "metadata": {},
   "outputs": [],
   "source": []
  }
 ],
 "metadata": {
  "kernelspec": {
   "display_name": "Python 3 (ipykernel)",
   "language": "python",
   "name": "python3"
  },
  "language_info": {
   "codemirror_mode": {
    "name": "ipython",
    "version": 3
   },
   "file_extension": ".py",
   "mimetype": "text/x-python",
   "name": "python",
   "nbconvert_exporter": "python",
   "pygments_lexer": "ipython3",
   "version": "3.9.7"
  }
 },
 "nbformat": 4,
 "nbformat_minor": 5
}
