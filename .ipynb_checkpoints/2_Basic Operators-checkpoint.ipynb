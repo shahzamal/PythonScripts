{
 "cells": [
  {
   "cell_type": "markdown",
   "id": "cbb5fa99",
   "metadata": {},
   "source": [
    "# Operator\n",
    "Operators are used to perform operations on variables and values.\n",
    "\n",
    "# Type of Operator\n",
    "- Arithmetic Operators\n",
    "- Comparison (Relational) Operators\n",
    "- Assignment Operators\n",
    "- Logical Operators\n",
    "- Bitwise Operators\n",
    "- Membership Operators\n",
    "- Identity Operators"
   ]
  },
  {
   "cell_type": "markdown",
   "id": "f7428e91",
   "metadata": {},
   "source": [
    "# Python Arithmetic Operators\n",
    "\n",
    "\n",
    "|Operator||Name||Example|\n",
    "|:---------||:------------||:-----------|\n",
    "|+||Addition||x + y|\n",
    "|-||Subtraction||x - y|\n",
    "| * ||Multiplication||x * y|\n",
    "| /  ||Division||x / y|\n",
    "|%||Modulus||x % y|\n",
    "| ** ||Exponentiation||x ** y|\n",
    "|//||Floor division||x // y|\n"
   ]
  },
  {
   "cell_type": "code",
   "execution_count": 5,
   "id": "b0e8b754",
   "metadata": {},
   "outputs": [
    {
     "name": "stdout",
     "output_type": "stream",
     "text": [
      "10\n"
     ]
    }
   ],
   "source": [
    "#Addition\n",
    "x=5;y=5\n",
    "print(x+y)"
   ]
  },
  {
   "cell_type": "code",
   "execution_count": 6,
   "id": "318342e5",
   "metadata": {},
   "outputs": [
    {
     "name": "stdout",
     "output_type": "stream",
     "text": [
      "5\n"
     ]
    }
   ],
   "source": [
    "##Subtraction\n",
    "x=10;y=5\n",
    "print(x-y)"
   ]
  },
  {
   "cell_type": "code",
   "execution_count": 7,
   "id": "ba552eae",
   "metadata": {},
   "outputs": [
    {
     "name": "stdout",
     "output_type": "stream",
     "text": [
      "10\n"
     ]
    }
   ],
   "source": [
    "#Multiplication\n",
    "x=5;y=2\n",
    "print(x*y)"
   ]
  },
  {
   "cell_type": "code",
   "execution_count": 22,
   "id": "d498cd9f",
   "metadata": {},
   "outputs": [
    {
     "name": "stdout",
     "output_type": "stream",
     "text": [
      "3.25\n"
     ]
    }
   ],
   "source": [
    "#Division\n",
    "x=13;y=4\n",
    "print(x/y)"
   ]
  },
  {
   "cell_type": "code",
   "execution_count": 23,
   "id": "46813aea",
   "metadata": {},
   "outputs": [
    {
     "name": "stdout",
     "output_type": "stream",
     "text": [
      "3\n"
     ]
    }
   ],
   "source": [
    "#Floor Division\n",
    "x=13;y=4\n",
    "print(x//y)"
   ]
  },
  {
   "cell_type": "code",
   "execution_count": 24,
   "id": "1b007e72",
   "metadata": {},
   "outputs": [
    {
     "name": "stdout",
     "output_type": "stream",
     "text": [
      "1\n"
     ]
    }
   ],
   "source": [
    "x=13;y=4\n",
    "print(x%y)"
   ]
  },
  {
   "cell_type": "code",
   "execution_count": 25,
   "id": "97f10d4c",
   "metadata": {},
   "outputs": [
    {
     "name": "stdout",
     "output_type": "stream",
     "text": [
      "8\n"
     ]
    }
   ],
   "source": [
    "#Exponentiation\n",
    "x=2;y=3\n",
    "print(x**y)"
   ]
  },
  {
   "cell_type": "markdown",
   "id": "90492276",
   "metadata": {},
   "source": [
    "# Order of presidence in arithmetic operators\n",
    "1+2*3+4/2+5*2/10-2 =8 <br>\n",
    "\n",
    "Highest priority to Lowest priority:\n",
    "\n",
    "|Serial no.||Operator|\n",
    "|:------------||:-------|\n",
    "|1||Exponentiation(**)|\n",
    "|2||Multiplication(*)|\n",
    "|3||Division(/)|\n",
    "|4||Addition(+)|\n",
    "|5||Subtraction(-)|"
   ]
  },
  {
   "cell_type": "markdown",
   "id": "6dda3a8b",
   "metadata": {},
   "source": [
    "# Python Comparison Operators\n",
    "\n",
    "Assume variable x holds 20 and variable y holds 40, then −\n",
    "\n",
    "|Operator||Description||Example|\n",
    "|:---------||:------------||:-----------|\n",
    "|==||If the values of two operands are equal,then the condition becomes true.||(x == y) is not true.|\n",
    "|!=||If values of two operands are not equal,then condition becomes true.||(x != y) is true.|\n",
    "|<>||If values of two operands are not equal,then condition becomes true.||(x <> y) is true.<br>This is similar to != operator.|\n",
    "|>||If the value of left operand is greater than the value of right operand,then<br> condition becomes true.||(x > y) is not true.|\n",
    "|<||If the value of left operand is less than the value of right operand,then<br> condition becomes true.||(x < y) is true.|\n",
    "|>=||If the value of left operand is greater than or equal to the value of right operand,<br>then condition becomes true.||(x >= y) is not true.|\n",
    "|//||If the value of left operand is less than or equal to the value of right operand,<br>then condition becomes true.||(x <= y) is true.|\n"
   ]
  },
  {
   "cell_type": "markdown",
   "id": "b0db8a40",
   "metadata": {},
   "source": [
    "# Python Assignment Operators\n",
    "\n",
    "|Operator||Example||Same As|\n",
    "|:---------||:------------||:-----------|\n",
    "|=||x=5||x = 5|\n",
    "|+=||x += 3||x = x + 3|\n",
    "|- =||x - = 3||x =x - 3|\n",
    "| * /  ||x * = 3||x = x* 3|\n",
    "|/=||x /= 3||x = x / 3|\n",
    "| %= ||x %= 3||x = x % 3|\n",
    "|//=||x //= 3||x = x // 3|\n",
    "|** =||x ** = 3||x = x ** 3|\n",
    "|&=||x &= 3||x = x & 3|\n",
    "|^=||x ^= 3||x = x^3|\n",
    "|>>=||x >>= 3||x = x >> 3|\n",
    "|<<=||x <<= 3||x <<= 3|\n"
   ]
  },
  {
   "cell_type": "markdown",
   "id": "14f1aa29",
   "metadata": {},
   "source": [
    "\n",
    "\n",
    "\n",
    "\n",
    "\n",
    "# Python Bitwise Operators\n",
    "\n",
    "Bitwise operator works on bits and performs bit by bit operation. Assume if a = 60; and b = 13; Now in the binary format their values will be 0011 1100 and 0000 1101 respectively.\n",
    "\n",
    "<!DOCTYPE html>\n",
    "<html>\n",
    "<head>\n",
    "<style>\n",
    "table {\n",
    "  font-family: arial, sans-serif;\n",
    "  border-collapse: collapse;\n",
    "  width: 100%;\n",
    "}\n",
    "\n",
    "td, th {\n",
    "  border: 2px solid #dddddd;\n",
    "  text-align: right;\n",
    "  padding: 8px;\n",
    "}\n",
    "\n",
    "tr:nth-child(even) {\n",
    "  background-color: #dddddd;\n",
    "}\n",
    "</style>\n",
    "</head>\n",
    "<body>\n",
    "\n",
    "\n",
    "<table>\n",
    "  <tr>\n",
    "    <th>Operator</th>\n",
    "    <th>Description</th>\n",
    "    <th>Example</th>\n",
    "  </tr>\n",
    "  <tr>\n",
    "    <td>And(&)</td>\n",
    "    <td>Sets each bit to 1 if both bits are 1</td>\n",
    "    <td>(a & b) (means 0000 1100)</td>\n",
    "  </tr>\n",
    "  <tr>\n",
    "    <td>Or(|)</td>\n",
    "    <td>Sets each bit to 1 if one of two bits is 1</td>\n",
    "    <td>(a | b) = 61 (means 0011 1101)</td>\n",
    "  </tr>\n",
    "  <tr>\n",
    "    <td>XOR(^)</td>\n",
    "    <td>Sets each bit to 1 if only one of two bits is 1</td>\n",
    "    <td>(a ^ b) = 49 (means 0011 0001)</td>\n",
    "  </tr>\n",
    "  <tr>\n",
    "    <td>NOT(~)</td>\n",
    "    <td>Inverts all the bits</td>\n",
    "    <td>(~a ) = -61 (means 1100 0011 in <br>2's complement form due <br>to a signed binary number.</td>\n",
    "  </tr>\n",
    "  <tr>\n",
    "    <td>Zero fill left shift(<<)</td>\n",
    "    <td>Shift left by pushing zeros in from the right <br>and let the leftmost bits fall off</td>\n",
    "    <td> a << 2 = 240 (means 1111 0000) </td>\n",
    "  </tr>\n",
    "  <tr>\n",
    "    <td>Signed right shift(>>)</td>\n",
    "    <td>Shift right by pushing copies of the leftmost bit <br>in from the left, and let the rightmost bits fall off</td>\n",
    "    <td>a >> 2 = 15 (means 0000 1111)</td>\n",
    "  </tr>\n",
    "</table>\n",
    "\n",
    "</body>\n",
    "</html>\n"
   ]
  },
  {
   "cell_type": "markdown",
   "id": "2368e999",
   "metadata": {},
   "source": [
    "# Python Logical Operators\n",
    "\n",
    "\n",
    "|Operator||Name||Example|\n",
    "|:---------||:------------||:-----------|\n",
    "|AND||Returns True if both statements are true||x < 5 and  x < 10|\n",
    "|OR||Returns True if one of the statements is true||x < 5 or x < 4|\n",
    "|NOT||Reverse the result, returns False if the result is true||not(x < 5 and x < 10)|\n"
   ]
  },
  {
   "cell_type": "markdown",
   "id": "fb79471f",
   "metadata": {},
   "source": [
    "\n",
    "# Python Membership Operators\n",
    "\n",
    "Membership operators are used to test if a sequence is presented in an object:\n",
    "\n",
    "\n",
    "|Operator||Description||Example|\n",
    "|:---------||:------------||:-----------|\n",
    "|in||Returns True if a sequence with the specified <br>value is present in the object||x in y, here in results in a 1 if x is a <br>member of sequence y.|\n",
    "|not in||Returns True if a sequence with the specified <br>value is not present in the object||x not in y, here not in results in a 1 <br>if x is not a member of sequence y.|\n"
   ]
  },
  {
   "cell_type": "markdown",
   "id": "a82d23c4",
   "metadata": {},
   "source": [
    "# Give examples and explain results?"
   ]
  },
  {
   "cell_type": "code",
   "execution_count": 11,
   "id": "ec15d5cb",
   "metadata": {},
   "outputs": [
    {
     "name": "stdout",
     "output_type": "stream",
     "text": [
      "True\n"
     ]
    }
   ],
   "source": [
    "#Example1\n",
    "x = [\"Messi\", \"Ronaldo\"]\n",
    "print(\"Messi\" in x)"
   ]
  },
  {
   "cell_type": "markdown",
   "id": "f06f71c2",
   "metadata": {},
   "source": [
    "returns True because a sequence with the value \"Messi\" is in the list"
   ]
  },
  {
   "cell_type": "code",
   "execution_count": 12,
   "id": "a30f0adb",
   "metadata": {},
   "outputs": [
    {
     "name": "stdout",
     "output_type": "stream",
     "text": [
      "True\n"
     ]
    }
   ],
   "source": [
    "#Example2\n",
    "x = [\"Messi\", \"Ronaldo\"]\n",
    "\n",
    "print(\"Neymar\" not in x)"
   ]
  },
  {
   "cell_type": "markdown",
   "id": "7eb8bfce",
   "metadata": {},
   "source": [
    "returns True because a sequence with the value \"Neymar\" is not in the lis"
   ]
  },
  {
   "cell_type": "markdown",
   "id": "a9b31309",
   "metadata": {},
   "source": [
    "\n",
    "\n",
    "# Python Identity Operators\n",
    "\n",
    "Identity operators compare the memory locations of two objects.\n",
    "\n",
    "|Operator||Name||Example|\n",
    "|:---------||:------------||:-----------|\n",
    "|is||Returns True if both variables are the same object||x is y, here is results in 1 if id(x) equals id(y).|\n",
    "|is not||Returns True if both variables are not the same <br>object||x is not y, here is not results in 1 if id(x) <br>is not equal to id(y).|\n"
   ]
  },
  {
   "cell_type": "markdown",
   "id": "1a926df4",
   "metadata": {},
   "source": [
    "# Give examples and explain results?"
   ]
  },
  {
   "cell_type": "code",
   "execution_count": 13,
   "id": "444bac8b",
   "metadata": {},
   "outputs": [
    {
     "name": "stdout",
     "output_type": "stream",
     "text": [
      "True\n"
     ]
    }
   ],
   "source": [
    "x = [\"Messi\", \"Ronaldo\"]\n",
    "y = [\"Messi\", \"Ronaldo\"]\n",
    "z = x\n",
    "print(x is z)"
   ]
  },
  {
   "cell_type": "markdown",
   "id": "e8b41c21",
   "metadata": {},
   "source": [
    "returns True because z is the same object as x"
   ]
  },
  {
   "cell_type": "code",
   "execution_count": 14,
   "id": "ec818ab1",
   "metadata": {},
   "outputs": [
    {
     "name": "stdout",
     "output_type": "stream",
     "text": [
      "False\n"
     ]
    }
   ],
   "source": [
    "x = [\"Messi\", \"Ronaldo\"]\n",
    "y = [\"Messi\", \"Ronaldo\"]\n",
    "z = x\n",
    "print(x is y)"
   ]
  },
  {
   "cell_type": "markdown",
   "id": "f8f6870e",
   "metadata": {},
   "source": [
    "returns False because x is not the same object as y, even if they have the same content"
   ]
  },
  {
   "cell_type": "code",
   "execution_count": 15,
   "id": "bb352601",
   "metadata": {},
   "outputs": [
    {
     "name": "stdout",
     "output_type": "stream",
     "text": [
      "True\n"
     ]
    }
   ],
   "source": [
    "x = [\"Messi\", \"Ronaldo\"]\n",
    "y = [\"Messi\", \"Ronaldo\"]\n",
    "z = x\n",
    "print(x == y)"
   ]
  },
  {
   "cell_type": "markdown",
   "id": "53053af6",
   "metadata": {},
   "source": [
    "to demonstrate the difference betweeen \"is\" and \"==\": this comparison returns True because x is equal to y"
   ]
  },
  {
   "cell_type": "code",
   "execution_count": 16,
   "id": "20bcbeb7",
   "metadata": {},
   "outputs": [
    {
     "name": "stdout",
     "output_type": "stream",
     "text": [
      "False\n"
     ]
    }
   ],
   "source": [
    "x = [\"Messi\", \"Ronaldo\"]\n",
    "y = [\"Messi\", \"Ronaldo\"]\n",
    "z = x\n",
    "print(x is not z)"
   ]
  },
  {
   "cell_type": "markdown",
   "id": "3ae378c4",
   "metadata": {},
   "source": [
    "returns False because z is the same object as x"
   ]
  },
  {
   "cell_type": "code",
   "execution_count": 17,
   "id": "6d4bc245",
   "metadata": {},
   "outputs": [
    {
     "name": "stdout",
     "output_type": "stream",
     "text": [
      "True\n"
     ]
    }
   ],
   "source": [
    "x = [\"Messi\", \"Ronaldo\"]\n",
    "y = [\"Messi\", \"Ronaldo\"]\n",
    "z = x\n",
    "print(x is not y)"
   ]
  },
  {
   "cell_type": "markdown",
   "id": "facf84ab",
   "metadata": {},
   "source": [
    "returns True because x is not the same object as y, even if they have the same content"
   ]
  },
  {
   "cell_type": "code",
   "execution_count": 18,
   "id": "0b231af8",
   "metadata": {},
   "outputs": [
    {
     "name": "stdout",
     "output_type": "stream",
     "text": [
      "False\n"
     ]
    }
   ],
   "source": [
    "x = [\"Messi\", \"Ronaldo\"]\n",
    "y = [\"Messi\", \"Ronaldo\"]\n",
    "z = x\n",
    "print(x != y)"
   ]
  },
  {
   "cell_type": "markdown",
   "id": "6bae6b63",
   "metadata": {},
   "source": [
    "to demonstrate the difference betweeen \"is not\" and \"!=\": this comparison returns False because x is equal to y"
   ]
  },
  {
   "cell_type": "markdown",
   "id": "001a043a",
   "metadata": {},
   "source": [
    "## What is the difference between bitwise and logical operators?\n",
    "\n",
    "- Bitwise operators work on bits and perform bit by bit operations and Logical operators are used to making a decision based on multiple conditions.\n",
    "- The programming language's bitwise operator is a sort of computation operator and The programming language's logical operator performs logic-based operations.\n",
    "\n"
   ]
  },
  {
   "cell_type": "markdown",
   "id": "c8ed8195",
   "metadata": {},
   "source": [
    "## Explian the follwoing operations"
   ]
  },
  {
   "cell_type": "code",
   "execution_count": 14,
   "id": "11a469f5",
   "metadata": {},
   "outputs": [],
   "source": [
    "x = 5\n",
    "x += 5"
   ]
  },
  {
   "cell_type": "code",
   "execution_count": 15,
   "id": "ffdda6fc",
   "metadata": {},
   "outputs": [
    {
     "data": {
      "text/plain": [
       "10"
      ]
     },
     "execution_count": 15,
     "metadata": {},
     "output_type": "execute_result"
    }
   ],
   "source": [
    "x"
   ]
  },
  {
   "cell_type": "code",
   "execution_count": 16,
   "id": "ee9cf250",
   "metadata": {},
   "outputs": [],
   "source": [
    "x+=x"
   ]
  },
  {
   "cell_type": "code",
   "execution_count": 17,
   "id": "ca14cf4d",
   "metadata": {},
   "outputs": [
    {
     "data": {
      "text/plain": [
       "20"
      ]
     },
     "execution_count": 17,
     "metadata": {},
     "output_type": "execute_result"
    }
   ],
   "source": [
    "x"
   ]
  }
 ],
 "metadata": {
  "kernelspec": {
   "display_name": "Python 3 (ipykernel)",
   "language": "python",
   "name": "python3"
  },
  "language_info": {
   "codemirror_mode": {
    "name": "ipython",
    "version": 3
   },
   "file_extension": ".py",
   "mimetype": "text/x-python",
   "name": "python",
   "nbconvert_exporter": "python",
   "pygments_lexer": "ipython3",
   "version": "3.9.7"
  }
 },
 "nbformat": 4,
 "nbformat_minor": 5
}
