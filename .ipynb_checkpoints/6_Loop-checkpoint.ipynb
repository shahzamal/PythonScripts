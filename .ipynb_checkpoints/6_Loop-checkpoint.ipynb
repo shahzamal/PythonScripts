{
 "cells": [
  {
   "cell_type": "markdown",
   "id": "77d974e8",
   "metadata": {},
   "source": [
    "# Python - Loops\n",
    "A loop statement allows us to execute a statement or group of statements multiple times.Python programming language provides following types of loops to handle looping requirements.\n",
    "\n",
    "\n",
    "|Serial No.||Loop Type||Description|\n",
    "|:---------||:------||:------------|\n",
    "|1||while loop||With the while loop we can execute a set of statements as long as a condition is true.|\n",
    "|2||for loop||A for loop is used for iterating over a sequence (that is either a list, a tuple, a ,<br>dictionary, a set, or a string).With the for loop we can execute a set of statements, <br>once for each item in a list, tuple, set etc.|\n",
    "|3||nested loops||We can use one or more loop inside any another while, for or do..while loop.|"
   ]
  },
  {
   "cell_type": "markdown",
   "id": "06f3a36f",
   "metadata": {},
   "source": [
    "# Loop Control Statements\n",
    "\n",
    "Loop control statements change execution from its normal sequence.Python supports the following control statements.\n",
    "\n",
    "|Serial No.||Control Statement||Description|\n",
    "|:---------||:------||:------------|\n",
    "|1||break statement||The loop statement is terminated, and execution is transferred to the statement immediately after the loop.|\n",
    "|2||continue statement||It causes the loop to skip the rest of its body and retest its state before repeating.|\n",
    "|3||pass statement||The pass statement is a null operation; nothing happens when it executes.|\n"
   ]
  },
  {
   "cell_type": "markdown",
   "id": "5847d482",
   "metadata": {},
   "source": [
    "\n",
    "# Python while Loop Statements\n",
    "In Python, a while loop statement runs a target statement continuously as long as a specified condition is true.\n",
    "<h3>Syntax</h3>\n",
    "The syntax of a while loop in Python programming language is −\n",
    "\n",
    "```python\n",
    "while expression:\n",
    "    statement(s)\n",
    "```\n",
    "\n",
    "### Emaple:"
   ]
  },
  {
   "cell_type": "code",
   "execution_count": 4,
   "id": "f6875ba6",
   "metadata": {},
   "outputs": [
    {
     "name": "stdout",
     "output_type": "stream",
     "text": [
      "Count  0\n",
      "Count  1\n",
      "Count  2\n",
      "Count  3\n",
      "Count  4\n",
      "Count  5\n",
      "Count  6\n",
      "Count  7\n",
      "Count  8\n",
      "Count  9\n",
      "Count  10\n",
      "Good Bye\n"
     ]
    }
   ],
   "source": [
    "x=0\n",
    "while(x<=10):\n",
    "    print(\"Count \",x)\n",
    "    x=x+1\n",
    "    \n",
    "print(\"Good Bye\")"
   ]
  },
  {
   "cell_type": "markdown",
   "id": "ddec935e",
   "metadata": {},
   "source": [
    "<h3>The Infinite Loop</h3>\n",
    "A loop becomes infinite loop if a condition never becomes FALSE.In client/server programming, where the server must operate continuously so that client programs can connect with it as necessary, an endless loop may be useful.\n",
    "\n",
    "<h3>Using else Statement with While Loop</h3>\n",
    "If the else statement is used with a while loop, the else statement is executed when the condition becomes false.Example:\n"
   ]
  },
  {
   "cell_type": "code",
   "execution_count": 6,
   "id": "856c3719",
   "metadata": {},
   "outputs": [
    {
     "name": "stdout",
     "output_type": "stream",
     "text": [
      "0  is  less than 5\n",
      "1  is  less than 5\n",
      "2  is  less than 5\n",
      "3  is  less than 5\n",
      "4  is  less than 5\n",
      "5  is not less than 5\n"
     ]
    }
   ],
   "source": [
    "count = 0\n",
    "while count < 5:\n",
    "   print (count, \" is  less than 5\")\n",
    "   count = count + 1\n",
    "else:\n",
    "   print (count, \" is not less than 5\")"
   ]
  },
  {
   "cell_type": "markdown",
   "id": "83373945",
   "metadata": {},
   "source": [
    "# Python for Loop Statements\n",
    "It can repeat over the items in any sequence, whether a list or a string.\n",
    "### Syntax\n",
    "\n",
    "for iterating_var in sequence:\n",
    "    statements(s)\n",
    "### Example:"
   ]
  },
  {
   "cell_type": "code",
   "execution_count": 13,
   "id": "95c44164",
   "metadata": {},
   "outputs": [
    {
     "name": "stdout",
     "output_type": "stream",
     "text": [
      "Current Letter : S\n",
      "Current Letter : a\n",
      "Current Letter : y\n",
      "Current Letter : e\n",
      "Current Letter : m\n",
      "fruit:  apple\n",
      "fruit:  banana\n",
      "fruit:  cherry\n"
     ]
    }
   ],
   "source": [
    "for letter in 'Sayem':     # First Example\n",
    "   print ('Current Letter :', letter)\n",
    "\n",
    "fruits = [\"apple\", \"banana\", \"cherry\"] #Second Example\n",
    "for x in fruits:\n",
    "    print('fruit: ',x)\n"
   ]
  },
  {
   "cell_type": "markdown",
   "id": "2530ab08",
   "metadata": {},
   "source": [
    "<h3>Iterating by Sequence Index</h3>\n",
    "An alternative way of iterating through each item is by index offset into the sequence itself. Following is a simple example −"
   ]
  },
  {
   "cell_type": "code",
   "execution_count": 21,
   "id": "aae682f7",
   "metadata": {},
   "outputs": [
    {
     "name": "stdout",
     "output_type": "stream",
     "text": [
      "Player 1 : Messi\n",
      "Player 2 : Ronaldo\n",
      "Player 3 : Neymar\n"
     ]
    }
   ],
   "source": [
    "players = ['Messi', 'Ronaldo',  'Neymar']\n",
    "for index in range(len(players)):\n",
    "   print ('Player',index+1,':', players[index])"
   ]
  },
  {
   "cell_type": "markdown",
   "id": "de3ba8fa",
   "metadata": {},
   "source": [
    "<h3>Using else Statement with For Loop</h3>\n",
    "If the else statement is used with a for loop, the else statement is executed when the loop has exhausted iterating the list."
   ]
  },
  {
   "cell_type": "code",
   "execution_count": 22,
   "id": "671d7e31",
   "metadata": {},
   "outputs": [
    {
     "name": "stdout",
     "output_type": "stream",
     "text": [
      "0\n",
      "1\n",
      "2\n",
      "3\n",
      "4\n",
      "5\n",
      "Finally finished!\n"
     ]
    }
   ],
   "source": [
    "for x in range(6):\n",
    "  print(x)\n",
    "else:\n",
    "  print(\"Finally finished!\")"
   ]
  },
  {
   "cell_type": "markdown",
   "id": "745bef51",
   "metadata": {},
   "source": [
    "The else block will NOT be executed if the loop is stopped by a break statement.Example:"
   ]
  },
  {
   "cell_type": "code",
   "execution_count": 23,
   "id": "aa16e01f",
   "metadata": {},
   "outputs": [
    {
     "name": "stdout",
     "output_type": "stream",
     "text": [
      "0\n",
      "1\n",
      "2\n"
     ]
    }
   ],
   "source": [
    "for x in range(6):\n",
    "  if x == 3: break\n",
    "  print(x)\n",
    "else:\n",
    "  print(\"Finally finished!\")"
   ]
  },
  {
   "cell_type": "markdown",
   "id": "537c6edf",
   "metadata": {},
   "source": [
    "<h3>The range() Function</h3>\n",
    "The range() function returns a sequence of numbers, starting from 0 by default, and increments by 1 (by default), and ends at a specified number.Example:"
   ]
  },
  {
   "cell_type": "code",
   "execution_count": 30,
   "id": "c1247444",
   "metadata": {},
   "outputs": [
    {
     "name": "stdout",
     "output_type": "stream",
     "text": [
      "0\n",
      "1\n",
      "2\n",
      "3\n",
      "4\n",
      "5\n"
     ]
    }
   ],
   "source": [
    "#Example 1\n",
    "for x in range(6):\n",
    "  print(x)"
   ]
  },
  {
   "cell_type": "code",
   "execution_count": 31,
   "id": "60415ec2",
   "metadata": {},
   "outputs": [
    {
     "name": "stdout",
     "output_type": "stream",
     "text": [
      "2\n",
      "3\n",
      "4\n",
      "5\n"
     ]
    }
   ],
   "source": [
    "#Example 2\n",
    "for x in range(2, 6):\n",
    "  print(x)"
   ]
  },
  {
   "cell_type": "markdown",
   "id": "bf1522c0",
   "metadata": {},
   "source": [
    "# Nested Loops\n",
    "A nested loop is a loop inside a loop.The \"inner loop\" will be executed one time for each iteration of the \"outer loop\":\n"
   ]
  },
  {
   "cell_type": "code",
   "execution_count": 32,
   "id": "699b2e36",
   "metadata": {},
   "outputs": [
    {
     "name": "stdout",
     "output_type": "stream",
     "text": [
      "red apple\n",
      "red banana\n",
      "red cherry\n",
      "big apple\n",
      "big banana\n",
      "big cherry\n",
      "tasty apple\n",
      "tasty banana\n",
      "tasty cherry\n"
     ]
    }
   ],
   "source": [
    "#Example\n",
    "adj = [\"red\", \"big\", \"tasty\"]\n",
    "fruits = [\"apple\", \"banana\", \"cherry\"]\n",
    "\n",
    "for x in adj:\n",
    "  for y in fruits:\n",
    "    print(x, y)"
   ]
  },
  {
   "cell_type": "markdown",
   "id": "f679b7af",
   "metadata": {},
   "source": [
    "# Python break statement\n",
    "It terminates the current loop and resumes execution at the next statement, just like the traditional break statement in C.Example:"
   ]
  },
  {
   "cell_type": "code",
   "execution_count": 27,
   "id": "720cad1d",
   "metadata": {},
   "outputs": [
    {
     "name": "stdout",
     "output_type": "stream",
     "text": [
      "1\n",
      "2\n",
      "3\n"
     ]
    }
   ],
   "source": [
    "#Example 1\n",
    "i = 1\n",
    "while i < 6:\n",
    "  print(i)\n",
    "  if i == 3:\n",
    "    break\n",
    "  i += 1\n",
    "\n"
   ]
  },
  {
   "cell_type": "code",
   "execution_count": 26,
   "id": "445de281",
   "metadata": {},
   "outputs": [
    {
     "name": "stdout",
     "output_type": "stream",
     "text": [
      "apple\n",
      "banana\n"
     ]
    }
   ],
   "source": [
    "#Example 2\n",
    "fruits = [\"apple\", \"banana\", \"cherry\"]\n",
    "for x in fruits:\n",
    "  print(x)\n",
    "  if x == \"banana\":\n",
    "    break"
   ]
  },
  {
   "cell_type": "markdown",
   "id": "1c2848fc",
   "metadata": {},
   "source": [
    "# Python continue statement\n",
    "The continue statement rejects all the remaining statements in the current iteration of the loop and moves the control back to the top of the loop."
   ]
  },
  {
   "cell_type": "code",
   "execution_count": 28,
   "id": "e0fe81d7",
   "metadata": {},
   "outputs": [
    {
     "name": "stdout",
     "output_type": "stream",
     "text": [
      "1\n",
      "2\n",
      "4\n",
      "5\n",
      "6\n"
     ]
    }
   ],
   "source": [
    "#Example 1\n",
    "i = 0\n",
    "while i < 6:\n",
    "  i += 1\n",
    "  if i == 3:\n",
    "    continue\n",
    "  print(i)"
   ]
  },
  {
   "cell_type": "code",
   "execution_count": 29,
   "id": "a2a0990e",
   "metadata": {},
   "outputs": [
    {
     "name": "stdout",
     "output_type": "stream",
     "text": [
      "Ronaldo\n",
      "Neymar\n"
     ]
    }
   ],
   "source": [
    "#Example 2\n",
    "players = ['Messi', 'Ronaldo',  'Neymar']\n",
    "for x in players:\n",
    "  if x == \"Messi\":\n",
    "    continue\n",
    "  print(x)"
   ]
  },
  {
   "cell_type": "markdown",
   "id": "3140cf95",
   "metadata": {},
   "source": [
    "# Python pass Statement\n",
    "It is used when a statement is required syntactically but you do not want any command or code to execute.Example:"
   ]
  },
  {
   "cell_type": "code",
   "execution_count": 34,
   "id": "60d3e095",
   "metadata": {},
   "outputs": [
    {
     "name": "stdout",
     "output_type": "stream",
     "text": [
      "Current Letter : S\n",
      "Current Letter : a\n",
      "This is a pass block\n",
      "Current Letter : y\n",
      "Current Letter : e\n",
      "Current Letter : m\n"
     ]
    }
   ],
   "source": [
    "for letter in 'Sayem': \n",
    "   if letter == 'y':\n",
    "      pass\n",
    "      print ('This is a pass block')\n",
    "   print ('Current Letter :', letter)"
   ]
  },
  {
   "cell_type": "markdown",
   "id": "cc59e993",
   "metadata": {},
   "source": [
    "# What is the difference between while and for loop?\n",
    "\n",
    "- If we forgot to put the conditional statement in for loop, it will reiterate the loop infinite times but if we forgot to put the conditional statement in while loop, it will show an error to we.\n",
    "- The syntax in the for loop will be executed only when the initialization statement is on the top of the syntax but in case of while loop, it doesn’t matter whether initialization statement finds anywhere in the syntax.\n",
    "- The iteration will be executed on if the body of the loop executes. on the contrary, the iteration statement in while loop can be written anywhere in the syntax."
   ]
  },
  {
   "cell_type": "markdown",
   "id": "3622acd9",
   "metadata": {},
   "source": [
    "# When is the while loop used? When is the for loop used?\n",
    "\n",
    "- A \"While\" Loop is used to repeat a specific block of code an unknown number of times, until a condition is met.The while loop is used when we don't know the number of times it will repeat. If that number is infinite, or the Boolean condition of the loop never gets set to False, then it will run forever.\n",
    "- A \"For\" Loop is used to repeat a specific block of code a known number of times. For loops are used when you have a block of code which we want to repeat a fixed number of times."
   ]
  },
  {
   "cell_type": "code",
   "execution_count": null,
   "id": "231ffd6c",
   "metadata": {},
   "outputs": [],
   "source": []
  }
 ],
 "metadata": {
  "kernelspec": {
   "display_name": "Python 3 (ipykernel)",
   "language": "python",
   "name": "python3"
  },
  "language_info": {
   "codemirror_mode": {
    "name": "ipython",
    "version": 3
   },
   "file_extension": ".py",
   "mimetype": "text/x-python",
   "name": "python",
   "nbconvert_exporter": "python",
   "pygments_lexer": "ipython3",
   "version": "3.9.7"
  }
 },
 "nbformat": 4,
 "nbformat_minor": 5
}
