{
 "cells": [
  {
   "cell_type": "markdown",
   "id": "e8b88697",
   "metadata": {},
   "source": [
    "# Vaiables\n",
    "Variables are containers for storing data values.Based on the data type of a variable, the interpreter allocates memory and decides what can be stored in the reserved memory."
   ]
  },
  {
   "cell_type": "markdown",
   "id": "f8d46143",
   "metadata": {},
   "source": [
    "# Assigning value to Variables\n",
    "We don't need to declare a variable cause the declaration happens automatically when you assign a value to a variable.Example:"
   ]
  },
  {
   "cell_type": "code",
   "execution_count": 4,
   "id": "4ecab530",
   "metadata": {},
   "outputs": [
    {
     "name": "stdout",
     "output_type": "stream",
     "text": [
      "100\n",
      "1000.0\n",
      "Sayem\n"
     ]
    }
   ],
   "source": [
    "x = 100          # An integer assignment\n",
    "y = 1000.0       # A floating point\n",
    "z = \"Sayem\"       # A string\n",
    "\n",
    "print (x)\n",
    "print (y)\n",
    "print (z)"
   ]
  },
  {
   "cell_type": "markdown",
   "id": "69c02506",
   "metadata": {},
   "source": [
    "# Multiple Assign\n",
    "Python allows you to assign a single value to several variables simultaneously. Example- \\\n",
    "x = y = z = 10 \\\n",
    "We can also do the following rule: \\\n",
    "a,b,c = 1,2.50,\"Sayem\""
   ]
  },
  {
   "cell_type": "markdown",
   "id": "da09a873",
   "metadata": {},
   "source": [
    "# Standard Data Types\n",
    "The data stored in memory can be of many types.Python has five standard data types:\n",
    "- Numbers\n",
    "- String\n",
    "- List\n",
    "- Tuple\n",
    "- Dictionary"
   ]
  },
  {
   "cell_type": "markdown",
   "id": "3e695962",
   "metadata": {},
   "source": [
    "# Python Number\n",
    "Number data types store numeric values. Number objects are created when you assign a value to them.Python supports four different numerical types − \n",
    "- int (signed integers)\n",
    "- long (long integers, they can also be represented in octal and hexadecimal)\n",
    "- float (floating point real values)\n",
    "- complex (complex numbers)\n",
    "\n",
    "Example:\\\n",
    "x = 1    # int \\\n",
    "y = 2.8  # float \\\n",
    "z = 1j   # complex"
   ]
  },
  {
   "cell_type": "markdown",
   "id": "ea163201",
   "metadata": {},
   "source": [
    "# Python Strings\n",
    "String is a collection of characters.Example:"
   ]
  },
  {
   "cell_type": "code",
   "execution_count": 5,
   "id": "e598414e",
   "metadata": {},
   "outputs": [
    {
     "name": "stdout",
     "output_type": "stream",
     "text": [
      "Hello\n",
      "Hello\n"
     ]
    }
   ],
   "source": [
    "#Output will be same\n",
    "print(\"Hello\")\n",
    "print('Hello')"
   ]
  },
  {
   "cell_type": "markdown",
   "id": "1eb77fb0",
   "metadata": {},
   "source": [
    "# Multiline Strings Assign\n",
    "We can assign a multiline string to a variable by using three quotes:"
   ]
  },
  {
   "cell_type": "code",
   "execution_count": 6,
   "id": "bf0236ee",
   "metadata": {},
   "outputs": [
    {
     "name": "stdout",
     "output_type": "stream",
     "text": [
      "Lorem ipsum dolor sit amet,\n",
      "consectetur adipiscing elit,\n",
      "sed do eiusmod tempor incididunt\n",
      "ut labore et dolore magna aliqua.\n"
     ]
    }
   ],
   "source": [
    "a = \"\"\"Lorem ipsum dolor sit amet,\n",
    "consectetur adipiscing elit,\n",
    "sed do eiusmod tempor incididunt\n",
    "ut labore et dolore magna aliqua.\"\"\"\n",
    "print(a)"
   ]
  },
  {
   "cell_type": "markdown",
   "id": "0a5c8bda",
   "metadata": {},
   "source": [
    "# Strings are Arrays\n",
    "Like many other popular programming languages, strings in Python are arrays of bytes representing unicode characters.Example:"
   ]
  },
  {
   "cell_type": "code",
   "execution_count": 10,
   "id": "6e4ae153",
   "metadata": {},
   "outputs": [
    {
     "name": "stdout",
     "output_type": "stream",
     "text": [
      "Hello World!\n",
      "H\n",
      "llo\n",
      "llo World!\n",
      "Hello World!Hello World!\n",
      "Hello World!TEST\n"
     ]
    }
   ],
   "source": [
    "str = 'Hello World!'\n",
    "\n",
    "print (str)          # Prints complete string\n",
    "print (str[0])       # Prints first character of the string\n",
    "print (str[2:5])     # Prints characters starting from 3rd to 5th\n",
    "print (str[2:])      # Prints string starting from 3rd character\n",
    "print (str * 2)      # Prints string two times\n",
    "print (str + \"TEST\") # Prints concatenated string"
   ]
  },
  {
   "cell_type": "markdown",
   "id": "c2b1c3c8",
   "metadata": {},
   "source": [
    "# Python List\n",
    "A list in Python is a collection of items which can contain elements of multiple data types.Lists are created using square brackets: \\\n",
    "list = [\"apple\", \"banana\", \"cherry\"] \\\n",
    "Example:"
   ]
  },
  {
   "cell_type": "code",
   "execution_count": 1,
   "id": "53bdf804",
   "metadata": {},
   "outputs": [
    {
     "name": "stdout",
     "output_type": "stream",
     "text": [
      "['abcd', 786, 2.23, 'Sayem', 70.2]\n",
      "abcd\n",
      "[786, 2.23]\n",
      "[2.23, 'Sayem', 70.2]\n",
      "[123, 'Sayem', 123, 'Sayem']\n",
      "['abcd', 786, 2.23, 'Sayem', 70.2, 123, 'Sayem']\n"
     ]
    }
   ],
   "source": [
    "#Creating a list\n",
    "list = [ 'abcd', 786 , 2.23, 'Sayem', 70.2 ]\n",
    "#Creating Another list\n",
    "thislist = [123, 'Sayem']\n",
    "\n",
    "print (list)          # Prints complete list\n",
    "print (list[0])       # Prints first element of the list\n",
    "print (list[1:3])     # Prints elements starting from 2nd till 3rd \n",
    "print (list[2:])      # Prints elements starting from 3rd element\n",
    "print (thislist * 2)  # Prints list two times\n",
    "print (list + thislist) # Prints concatenated lists"
   ]
  },
  {
   "cell_type": "markdown",
   "id": "cd0cc21a",
   "metadata": {},
   "source": [
    "## What is the difference between array and list?\n",
    "|List||Array|\n",
    "|:---||:---|\n",
    "|Python lists are very flexible and can hold arbitrary data.||Python arrays are just a thin wrapper on C arrays.|\n",
    "|Lists are a part of Python’s syntax, so they do not need to be declared first.||Arrays need to first be imported, or declared, from other libraries|\n",
    "|Without any explicit looping, the complete list can be printed.||To print or access the array's components, a loop must be created.|\n",
    "|Preferred for shorter sequence of data items||Preferred for longer sequence of data items|\n",
    "|Data can be easily modified (added, deleted) with more freedom.||Because addition and deletion are done element by element, there is less flexibility.|\n"
   ]
  },
  {
   "cell_type": "markdown",
   "id": "d30128a7",
   "metadata": {},
   "source": [
    "## When we can use list?\n",
    " Lists are used to store multiple items in a single variable.Lsts are one of 4 built-in data types in Python used to store collections of data."
   ]
  },
  {
   "cell_type": "markdown",
   "id": "b80dbb15",
   "metadata": {},
   "source": [
    "# Python Tuples\n",
    "A tuple is another sequence data type that is similar to the list.A tuple is a collection which is ordered and unchangeable.Tuples are enclosed within parentheses.Example:"
   ]
  },
  {
   "cell_type": "code",
   "execution_count": 16,
   "id": "e7828327",
   "metadata": {},
   "outputs": [
    {
     "name": "stdout",
     "output_type": "stream",
     "text": [
      "('abcd', 786, 2.23, 'john', 70.2)\n",
      "abcd\n",
      "(786, 2.23)\n",
      "(2.23, 'john', 70.2)\n",
      "(123, 'john', 123, 'john')\n",
      "('abcd', 786, 2.23, 'john', 70.2, 123, 'john')\n"
     ]
    }
   ],
   "source": [
    "tuple = ( 'abcd', 786 , 2.23, 'john', 70.2  )\n",
    "tinytuple = (123, 'john')\n",
    "\n",
    "print (tuple)               # Prints the complete tuple\n",
    "print (tuple[0])            # Prints first element of the tuple\n",
    "print (tuple[1:3])          # Prints elements of the tuple starting from 2nd till 3rd \n",
    "print (tuple[2:])           # Prints elements of the tuple starting from 3rd element\n",
    "print (tinytuple * 2)       # Prints the contents of the tuple twice\n",
    "print (tuple + tinytuple)   # Prints concatenated tuples"
   ]
  },
  {
   "cell_type": "code",
   "execution_count": 18,
   "id": "100b54b7",
   "metadata": {},
   "outputs": [
    {
     "data": {
      "text/html": [
       "tuple = ( 'abcd', 786 , 2.23, 'john', 70.2  )<br>\n",
       "list = [ 'abcd', 786 , 2.23, 'john', 70.2  ]<br>\n",
       "tuple[2] = 1000    # Invalid syntax with tuple(Tuple can't be updated)<br>\n",
       "list[2] = 1000     # Valid syntax with list <br>\n"
      ],
      "text/plain": [
       "<IPython.core.display.HTML object>"
      ]
     },
     "metadata": {},
     "output_type": "display_data"
    }
   ],
   "source": [
    "%%HTML\n",
    "tuple = ( 'abcd', 786 , 2.23, 'john', 70.2  )<br>\n",
    "list = [ 'abcd', 786 , 2.23, 'john', 70.2  ]<br>\n",
    "tuple[2] = 1000    # Invalid syntax with tuple(Tuple can't be updated)<br>\n",
    "list[2] = 1000     # Valid syntax with list <br>"
   ]
  },
  {
   "cell_type": "markdown",
   "id": "7af43a0c",
   "metadata": {},
   "source": [
    "## When we can use Tuples ?\n",
    "Use a tuple instead of a list if we're going to define a constant collection of values that we'll only ever iterate over.It makes our code safer if we “write-protect” data that does not need to be changed."
   ]
  },
  {
   "cell_type": "markdown",
   "id": "6b613de4",
   "metadata": {},
   "source": [
    "# Python Dictionary\n",
    "Dictionaries are used to store data values in key.A dictionary is a collection which is ordered*, changeable and do not allow duplicates.Dictionaries are enclosed by curly braces ({ }) and values can be assigned and accessed using square braces ([]). For example −"
   ]
  },
  {
   "cell_type": "code",
   "execution_count": 20,
   "id": "52dcbacc",
   "metadata": {},
   "outputs": [
    {
     "name": "stdout",
     "output_type": "stream",
     "text": [
      "This is one\n",
      "This is two\n",
      "{'name': 'Sayem', 'code': 6734, 'dept': 'sales'}\n",
      "dict_keys(['name', 'code', 'dept'])\n",
      "dict_values(['Sayem', 6734, 'sales'])\n"
     ]
    }
   ],
   "source": [
    "dict = {}\n",
    "dict['one'] = \"This is one\"\n",
    "dict[2]     = \"This is two\"\n",
    "\n",
    "tinydict = {'name': 'Sayem','code':6734, 'dept': 'sales'}\n",
    "\n",
    "\n",
    "print (dict['one'])       # Prints value for 'one' key\n",
    "print (dict[2])           # Prints value for 2 key\n",
    "print (tinydict)          # Prints complete dictionary\n",
    "print (tinydict.keys())   # Prints all the keys\n",
    "print (tinydict.values()) # Prints all the values"
   ]
  },
  {
   "cell_type": "markdown",
   "id": "f3579df5",
   "metadata": {},
   "source": [
    "## What is the difference between Tuple and dictionary?\n",
    "- Tuple won't need any key value pairs like Dictionary.\n",
    "- A tuple can contain only the predefined number of values, in dictionary there is no such limitation.\n",
    "- A tuple can contain different values with different datatype while a dictionary can contain only one datatype value at a time\n",
    "- A tuple can Order is maintained and in dictionary Ordering is not guaranteed.\n",
    "- In tuple elements are accessed via numeric (zero based) indices and in dictionary elements are accessed using key's values.\n",
    "- Tuple is immutable and entries in a dictionary can be changed."
   ]
  },
  {
   "cell_type": "markdown",
   "id": "12cf638d",
   "metadata": {},
   "source": [
    "## When we can use dictionary?\n",
    "Python dictionaries can be used when the data has a unique reference that can be associated with the value."
   ]
  },
  {
   "cell_type": "code",
   "execution_count": null,
   "id": "f3849c9a",
   "metadata": {},
   "outputs": [],
   "source": []
  }
 ],
 "metadata": {
  "kernelspec": {
   "display_name": "Python 3 (ipykernel)",
   "language": "python",
   "name": "python3"
  },
  "language_info": {
   "codemirror_mode": {
    "name": "ipython",
    "version": 3
   },
   "file_extension": ".py",
   "mimetype": "text/x-python",
   "name": "python",
   "nbconvert_exporter": "python",
   "pygments_lexer": "ipython3",
   "version": "3.9.7"
  }
 },
 "nbformat": 4,
 "nbformat_minor": 5
}
