{
 "cells": [
  {
   "cell_type": "markdown",
   "id": "18887deb",
   "metadata": {},
   "source": [
    "# Exceptions Handling\n",
    "A Python object that represents an error is called an exception. When a Python script throws an exception, it has two options: handle the exception immediately or terminate and quit.\n",
    "### Handling an exception\n",
    "If we have any doubtful code that may cause an exception, we can protect our program by putting it in a <b>try:</b> block. Include an <b>except:</b> statement after the <b>try:</b> block, followed by a block of code that solves the situation as neatly as possible.\n",
    "### Syntax\n",
    "```python\n",
    "try:\n",
    "   We do our job here.;\n",
    "   ......................\n",
    "except ExceptionI:\n",
    "   If there is ExceptionI, then execute this block.\n",
    "except ExceptionII:\n",
    "   If there is ExceptionII, then execute this block.\n",
    "   ......................\n",
    "else:\n",
    "   If there is no exception then execute this block.\n",
    "```\n",
    "Here are a few key facts to remember about the syntax given above:  \n",
    "- There can be many except statements in a single try statement. When the try block contains statements that may cause many types of exceptions, this is handy.\n",
    "- A generic except statement can also be used to handle any exception.\n",
    "- We can add an else-clause after the except clause(s). If the code in the try: block does not generate an exception, the code in the else-block executes.\n",
    "\n",
    "### Example:\n",
    "The try block will generate an exception, because x is not defined:"
   ]
  },
  {
   "cell_type": "code",
   "execution_count": 2,
   "id": "f2892e7f",
   "metadata": {},
   "outputs": [
    {
     "name": "stdout",
     "output_type": "stream",
     "text": [
      "x is not defined.\n"
     ]
    }
   ],
   "source": [
    "try:\n",
    "    print(x)\n",
    "except:\n",
    "    print(\"x is not defined.\")"
   ]
  },
  {
   "cell_type": "markdown",
   "id": "3ffb943e",
   "metadata": {},
   "source": [
    "Exception will give if we don't give a integer number."
   ]
  },
  {
   "cell_type": "code",
   "execution_count": 18,
   "id": "d9c4914f",
   "metadata": {},
   "outputs": [
    {
     "name": "stdout",
     "output_type": "stream",
     "text": [
      "Enter a interger number: 1.2\n",
      "Please enter a interger number.\n"
     ]
    }
   ],
   "source": [
    "try:\n",
    "    x=int(input(\"Enter a interger number: \"))\n",
    "    print(x)\n",
    "except:\n",
    "    print(\"Please enter a interger number.\")"
   ]
  },
  {
   "cell_type": "markdown",
   "id": "eaf4525e",
   "metadata": {},
   "source": [
    "## Many Exceptions\n",
    "We can define as many exception blocks as we want,if you want to execute a special block of code for a special kind of error.\n",
    "### Example:\n",
    "If the try block throws a <b>ValueError</b>, print one message; otherwise, print another:"
   ]
  },
  {
   "cell_type": "code",
   "execution_count": 10,
   "id": "18acb268",
   "metadata": {},
   "outputs": [
    {
     "name": "stdout",
     "output_type": "stream",
     "text": [
      "Enter a interger number: 11.94\n",
      "Please enter a interger number.\n"
     ]
    }
   ],
   "source": [
    "try:\n",
    "    x=int(input(\"Enter a interger number: \"))\n",
    "    if x>0:\n",
    "        print(x)\n",
    "except ValueError:\n",
    "    print(\"Please enter a interger number.\")\n",
    "except:\n",
    "    print(\"Something went wrong.\")"
   ]
  },
  {
   "cell_type": "markdown",
   "id": "c0a82ed0",
   "metadata": {},
   "source": [
    "## Else\n",
    "If no errors were detected, we can use the <b>else</b> keyword to define a block of code to run.\n",
    "### Example\n",
    "In this example, the <b>try</b> block does not generate any error:"
   ]
  },
  {
   "cell_type": "code",
   "execution_count": 11,
   "id": "d2a28804",
   "metadata": {},
   "outputs": [
    {
     "name": "stdout",
     "output_type": "stream",
     "text": [
      "Hello World\n",
      "Nothing went wrong.\n"
     ]
    }
   ],
   "source": [
    "try:\n",
    "    print(\"Hello World\")\n",
    "except:\n",
    "    print(\"Something went wrong.\")\n",
    "else:\n",
    "    print(\"Nothing went wrong.\")"
   ]
  },
  {
   "cell_type": "markdown",
   "id": "68f34db8",
   "metadata": {},
   "source": [
    "## Finally\n",
    "If the finally block is specified, it will be run whether or not the try block returns an error.\n",
    "### Example:"
   ]
  },
  {
   "cell_type": "code",
   "execution_count": 13,
   "id": "69add7b2",
   "metadata": {},
   "outputs": [
    {
     "name": "stdout",
     "output_type": "stream",
     "text": [
      "Hello guys\n",
      "The 'try except' is finished\n"
     ]
    }
   ],
   "source": [
    "try:\n",
    "  print(\"Hello guys\")\n",
    "except:\n",
    "  print(\"Something went wrong\")\n",
    "finally:\n",
    "  print(\"The 'try except' is finished\")"
   ]
  },
  {
   "cell_type": "markdown",
   "id": "057f1b07",
   "metadata": {},
   "source": [
    "### Example:\n",
    "Try to open and write to a file that is not writable:"
   ]
  },
  {
   "cell_type": "code",
   "execution_count": 15,
   "id": "e5a3518a",
   "metadata": {},
   "outputs": [
    {
     "name": "stdout",
     "output_type": "stream",
     "text": [
      "Can't find test file or write to file\n"
     ]
    }
   ],
   "source": [
    "try:\n",
    "    f=open(\"test.txt\",\"r\")\n",
    "    f.write(\"Hello\")\n",
    "except:\n",
    "    print(\"Can't find test file or write to file\")\n",
    "else:\n",
    "    print(\"Wrriten successfully\")"
   ]
  },
  {
   "cell_type": "markdown",
   "id": "ff61130d",
   "metadata": {},
   "source": [
    "## Raise an exception\n",
    "If a condition happens, a Python developer has the option of throwing an exception.To throw (or raise) an exception, use the <b>raise</b> keyword.\n",
    "### Example\n",
    "In this following example, if we give a negative value then it will throw a exception that we gave in <b>raise</b> statement."
   ]
  },
  {
   "cell_type": "code",
   "execution_count": 12,
   "id": "8055e068",
   "metadata": {},
   "outputs": [
    {
     "name": "stdout",
     "output_type": "stream",
     "text": [
      "Enter a positive number: -9\n"
     ]
    },
    {
     "ename": "Exception",
     "evalue": "Please enter a positive number",
     "output_type": "error",
     "traceback": [
      "\u001b[1;31m---------------------------------------------------------------------------\u001b[0m",
      "\u001b[1;31mException\u001b[0m                                 Traceback (most recent call last)",
      "\u001b[1;32m~\\AppData\\Local\\Temp/ipykernel_13636/2233325132.py\u001b[0m in \u001b[0;36m<module>\u001b[1;34m\u001b[0m\n\u001b[0;32m      1\u001b[0m \u001b[0mx\u001b[0m\u001b[1;33m=\u001b[0m\u001b[0mint\u001b[0m\u001b[1;33m(\u001b[0m\u001b[0minput\u001b[0m\u001b[1;33m(\u001b[0m\u001b[1;34m\"Enter a positive number: \"\u001b[0m\u001b[1;33m)\u001b[0m\u001b[1;33m)\u001b[0m\u001b[1;33m\u001b[0m\u001b[1;33m\u001b[0m\u001b[0m\n\u001b[0;32m      2\u001b[0m \u001b[1;32mif\u001b[0m \u001b[0mx\u001b[0m \u001b[1;33m<\u001b[0m \u001b[1;36m0\u001b[0m\u001b[1;33m:\u001b[0m\u001b[1;33m\u001b[0m\u001b[1;33m\u001b[0m\u001b[0m\n\u001b[1;32m----> 3\u001b[1;33m     \u001b[1;32mraise\u001b[0m \u001b[0mException\u001b[0m\u001b[1;33m(\u001b[0m\u001b[1;34m\"Please enter a positive number\"\u001b[0m\u001b[1;33m)\u001b[0m\u001b[1;33m\u001b[0m\u001b[1;33m\u001b[0m\u001b[0m\n\u001b[0m\u001b[0;32m      4\u001b[0m \u001b[1;32melse\u001b[0m\u001b[1;33m:\u001b[0m\u001b[1;33m\u001b[0m\u001b[1;33m\u001b[0m\u001b[0m\n\u001b[0;32m      5\u001b[0m     \u001b[0mprint\u001b[0m\u001b[1;33m(\u001b[0m\u001b[0mx\u001b[0m\u001b[1;33m)\u001b[0m\u001b[1;33m\u001b[0m\u001b[1;33m\u001b[0m\u001b[0m\n",
      "\u001b[1;31mException\u001b[0m: Please enter a positive number"
     ]
    }
   ],
   "source": [
    "x=int(input(\"Enter a positive number: \"))\n",
    "if x < 0:\n",
    "    raise Exception(\"Please enter a positive number\")\n",
    "else:\n",
    "    print(x)"
   ]
  },
  {
   "cell_type": "code",
   "execution_count": null,
   "id": "c5ecd907",
   "metadata": {},
   "outputs": [],
   "source": []
  },
  {
   "cell_type": "code",
   "execution_count": null,
   "id": "2a898b51",
   "metadata": {},
   "outputs": [],
   "source": []
  }
 ],
 "metadata": {
  "kernelspec": {
   "display_name": "Python 3 (ipykernel)",
   "language": "python",
   "name": "python3"
  },
  "language_info": {
   "codemirror_mode": {
    "name": "ipython",
    "version": 3
   },
   "file_extension": ".py",
   "mimetype": "text/x-python",
   "name": "python",
   "nbconvert_exporter": "python",
   "pygments_lexer": "ipython3",
   "version": "3.9.7"
  }
 },
 "nbformat": 4,
 "nbformat_minor": 5
}
