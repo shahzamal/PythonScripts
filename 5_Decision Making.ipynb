{
 "cells": [
  {
   "cell_type": "markdown",
   "id": "a7077043",
   "metadata": {},
   "source": [
    "# Decision Making\n",
    "\n",
    "Decision-making requires anticipating conditions that may arise during program execution and identifying actions to be done in response to such conditions.Multiple expressions are evaluated by decision structures, and the result is either TRUE or FALSE.Python programming language assumes any non-zero and non-null values as TRUE, and if it is either zero or null, then it is assumed as FALSE value.\n",
    "\n",
    "|Serial No.||Statement||Description|\n",
    "|:---------||:------||:------------|\n",
    "|1||if statements||An if statement consists of a boolean expression followed by one or more statements.|\n",
    "|2||if...else statements||An if statement can be followed by an optional else statement, which executes when <br>the boolean expression is FALSE.|\n",
    "|3||nested if statements||We can use one if or else if statement inside another if or else if statement(s).|\n",
    "\n",
    "# Single Statement Suites\n",
    "If the suite of an if clause consists only of a single line, it may go on the same line as the header statement.Here is an example of a one-line if clause −\n"
   ]
  },
  {
   "cell_type": "code",
   "execution_count": 4,
   "id": "3d4eb457",
   "metadata": {},
   "outputs": [
    {
     "name": "stdout",
     "output_type": "stream",
     "text": [
      "Value of expression is 1000\n",
      "Good bye!\n"
     ]
    }
   ],
   "source": [
    "x = 1000\n",
    "if ( x == 1000 ) : print (\"Value of expression is 1000\")\n",
    "print (\"Good bye!\")"
   ]
  },
  {
   "cell_type": "markdown",
   "id": "7acf37ef",
   "metadata": {},
   "source": [
    "# Python IF Statement\n",
    "The if statement includes a logical expression that compares facts and makes a decision based on the outcome of the comparison.\n",
    "### Syntax\n",
    "if expression:<br>\n",
    " &emsp; &nbsp; statement(s)<br>\n",
    " \n",
    "The block of statements inside the if statement is performed if the boolean expression evaluates to TRUE. If the boolean expression returns FALSE, the first set of code after the if statement(s) is run.\n",
    " \n",
    " Example:"
   ]
  },
  {
   "cell_type": "code",
   "execution_count": 1,
   "id": "93a77d28",
   "metadata": {},
   "outputs": [
    {
     "name": "stdout",
     "output_type": "stream",
     "text": [
      "b is greater than a\n"
     ]
    }
   ],
   "source": [
    "a = 33\n",
    "b = 200\n",
    "if b > a:\n",
    "  print(\"b is greater than a\")"
   ]
  },
  {
   "cell_type": "markdown",
   "id": "88921620",
   "metadata": {},
   "source": [
    "# Elif\n",
    "The elif keyword is pythons way of saying \"if the previous conditions were not true, then try this condition\"."
   ]
  },
  {
   "cell_type": "code",
   "execution_count": 2,
   "id": "d2c60d26",
   "metadata": {},
   "outputs": [
    {
     "name": "stdout",
     "output_type": "stream",
     "text": [
      "a is greater than b\n"
     ]
    }
   ],
   "source": [
    "a = 200\n",
    "b = 33\n",
    "if b > a:\n",
    "  print(\"b is greater than a\")\n",
    "elif a == b:\n",
    "  print(\"a and b are equal\")\n",
    "else:\n",
    "  print(\"a is greater than b\")"
   ]
  },
  {
   "cell_type": "markdown",
   "id": "24fec076",
   "metadata": {},
   "source": [
    "### Short Hand If\n",
    "If we just need to execute one sentence, place it on the same line as the if statement.Example:"
   ]
  },
  {
   "cell_type": "code",
   "execution_count": 3,
   "id": "beb6b66c",
   "metadata": {},
   "outputs": [
    {
     "name": "stdout",
     "output_type": "stream",
     "text": [
      "a is greater than b\n"
     ]
    }
   ],
   "source": [
    "if a > b: print(\"a is greater than b\")"
   ]
  },
  {
   "cell_type": "markdown",
   "id": "ab26be77",
   "metadata": {},
   "source": [
    "# Python IF ELSE Statements\n",
    "An else statement can be combined with an if statement.An else statement contains the block of code that executes if the conditional expression in the if statement resolves to 0 or a FALSE value.\n",
    "### Syntax\n",
    "if expression:<br>\n",
    " &emsp; &nbsp;  statement(s)<br>\n",
    "else:<br>\n",
    "  &emsp; &nbsp; statement(s)<br>\n",
    "  "
   ]
  },
  {
   "cell_type": "code",
   "execution_count": 5,
   "id": "9c11150e",
   "metadata": {},
   "outputs": [
    {
     "name": "stdout",
     "output_type": "stream",
     "text": [
      "Positive or Zero\n"
     ]
    }
   ],
   "source": [
    "#Example\n",
    "num = 3\n",
    "if num >= 0:\n",
    "    print(\"Positive or Zero\")\n",
    "else:\n",
    "    print(\"Negative number\")"
   ]
  },
  {
   "cell_type": "markdown",
   "id": "6f218938",
   "metadata": {},
   "source": [
    "## Short Hand If ... Else\n",
    "If we have only one statement to execute, one for if, and one for else, we can put it all on the same line:"
   ]
  },
  {
   "cell_type": "code",
   "execution_count": 6,
   "id": "95e491e8",
   "metadata": {},
   "outputs": [
    {
     "name": "stdout",
     "output_type": "stream",
     "text": [
      "B\n"
     ]
    }
   ],
   "source": [
    "a = 2\n",
    "b = 330\n",
    "print(\"A\") if a > b else print(\"B\")"
   ]
  },
  {
   "cell_type": "markdown",
   "id": "3bc050e2",
   "metadata": {},
   "source": [
    "# Python nested IF statements\n",
    "In a nested if construct, we can have an if...elif...else construct inside another if...elif...else construct."
   ]
  },
  {
   "cell_type": "code",
   "execution_count": 7,
   "id": "4ce2d088",
   "metadata": {},
   "outputs": [
    {
     "name": "stdout",
     "output_type": "stream",
     "text": [
      "Enter a number: 5\n",
      "Positive number\n"
     ]
    }
   ],
   "source": [
    "num = float(input(\"Enter a number: \"))\n",
    "if num >= 0:\n",
    "    if num == 0:\n",
    "        print(\"Zero\")\n",
    "    else:\n",
    "        print(\"Positive number\")\n",
    "else:\n",
    "    print(\"Negative number\")"
   ]
  },
  {
   "cell_type": "markdown",
   "id": "81396237",
   "metadata": {},
   "source": [
    "## And \n",
    "The and keyword is a logical operator, and is used to combine conditional statements:"
   ]
  },
  {
   "cell_type": "code",
   "execution_count": 8,
   "id": "3a0f3ca4",
   "metadata": {},
   "outputs": [
    {
     "name": "stdout",
     "output_type": "stream",
     "text": [
      "Both conditions are True\n"
     ]
    }
   ],
   "source": [
    "a = 200\n",
    "b = 33\n",
    "c = 500\n",
    "if a > b and c > a:\n",
    "  print(\"Both conditions are True\")"
   ]
  },
  {
   "cell_type": "markdown",
   "id": "3e7325fa",
   "metadata": {},
   "source": [
    "## Or\n",
    "The or keyword is a logical operator, and is used to combine conditional statements:"
   ]
  },
  {
   "cell_type": "code",
   "execution_count": 9,
   "id": "f93b46b3",
   "metadata": {},
   "outputs": [
    {
     "name": "stdout",
     "output_type": "stream",
     "text": [
      "Minimum 1 Condition will be true\n"
     ]
    }
   ],
   "source": [
    "a = 200\n",
    "b = 33\n",
    "c = 500\n",
    "if a > b or a > c:\n",
    "  print(\"Minimum 1 Condition will be true\")"
   ]
  },
  {
   "cell_type": "code",
   "execution_count": null,
   "id": "804cd006",
   "metadata": {},
   "outputs": [],
   "source": []
  }
 ],
 "metadata": {
  "kernelspec": {
   "display_name": "Python 3 (ipykernel)",
   "language": "python",
   "name": "python3"
  },
  "language_info": {
   "codemirror_mode": {
    "name": "ipython",
    "version": 3
   },
   "file_extension": ".py",
   "mimetype": "text/x-python",
   "name": "python",
   "nbconvert_exporter": "python",
   "pygments_lexer": "ipython3",
   "version": "3.9.7"
  }
 },
 "nbformat": 4,
 "nbformat_minor": 5
}
