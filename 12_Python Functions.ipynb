{
 "cells": [
  {
   "cell_type": "markdown",
   "id": "55031e07",
   "metadata": {},
   "source": [
    "# Functions\n",
    "A function is a block of code which only runs when it is called.We can pass data, known as parameters, into a function.A function can return data as a result.\n",
    "### Syntax\n",
    "def functionname( parameters ):<br>\n",
    " &nbsp; &nbsp; &nbsp; &nbsp; \"function_docstring\"<br>\n",
    " &nbsp; &nbsp; &nbsp; &nbsp; function_suite<br>\n",
    " &nbsp; &nbsp; &nbsp; &nbsp; return [expression]<br>\n",
    " \n",
    " ## Calling a Function\n",
    "To call a function, use the function name followed by parenthesis:"
   ]
  },
  {
   "cell_type": "code",
   "execution_count": 1,
   "id": "bb7f0b85",
   "metadata": {},
   "outputs": [
    {
     "name": "stdout",
     "output_type": "stream",
     "text": [
      "Hello from user defined function\n"
     ]
    }
   ],
   "source": [
    "def my_function():\n",
    "    \"This is user defined function\"\n",
    "    print(\"Hello from user defined function\")\n",
    "my_function()"
   ]
  },
  {
   "cell_type": "markdown",
   "id": "310772a7",
   "metadata": {},
   "source": [
    "## Pass by reference vs value\n",
    "In the Python programming language, all parameters (arguments) are passed by reference.It means that if we change the value of a parameter within a function, the change is reflected in the calling function as well.For example −"
   ]
  },
  {
   "cell_type": "code",
   "execution_count": 13,
   "id": "c753a464",
   "metadata": {},
   "outputs": [
    {
     "name": "stdout",
     "output_type": "stream",
     "text": [
      "Value from inside the function:  [100, 200, 300, 400, 1, 2, 3, 4, 5]\n",
      "Value from outside the function:  [100, 200, 300, 400, 1, 2, 3, 4, 5]\n"
     ]
    }
   ],
   "source": [
    "def changeme(list):\n",
    "    list.extend([1,2,3,4,5]);\n",
    "    print(\"Value from inside the function: \",list)\n",
    "    return\n",
    "list=[100,200,300,400];\n",
    "changeme(list)\n",
    "print(\"Value from outside the function: \",list)"
   ]
  },
  {
   "cell_type": "markdown",
   "id": "b128b8af",
   "metadata": {},
   "source": [
    "There is one more example where argument is being passed by reference and the reference is being overwritten inside the called function."
   ]
  },
  {
   "cell_type": "code",
   "execution_count": 15,
   "id": "4858557c",
   "metadata": {},
   "outputs": [
    {
     "name": "stdout",
     "output_type": "stream",
     "text": [
      "Value from inside the function:  [1, 2, 3, 4, 5]\n",
      "Value from outside the function:  [100, 200, 300, 400]\n"
     ]
    }
   ],
   "source": [
    "def changeme(list):\n",
    "    list=[1,2,3,4,5]; #This would assig new reference in list\n",
    "    print(\"Value from inside the function: \",list)\n",
    "    return\n",
    "list=[100,200,300,400];\n",
    "changeme(list)\n",
    "print(\"Value from outside the function: \",list)"
   ]
  },
  {
   "cell_type": "markdown",
   "id": "89cd3912",
   "metadata": {},
   "source": [
    "## Arguments\n",
    "Information can be passed into functions as arguments.Arguments are specified inside parentheses following the function name. We can use as many arguments as you like; just use a comma to separate them.The following example has a function with one argument (name). When the function is called, we pass along a first name, which is used inside the function to print the full name:"
   ]
  },
  {
   "cell_type": "code",
   "execution_count": 14,
   "id": "96614722",
   "metadata": {},
   "outputs": [
    {
     "name": "stdout",
     "output_type": "stream",
     "text": [
      "Sayem Ahmed\n",
      "Nayem Ahmed\n",
      "Rahim Ahmed\n"
     ]
    }
   ],
   "source": [
    "def myname(name):\n",
    "    print(name+\" Ahmed\")\n",
    "    return\n",
    "myname(\"Sayem\")\n",
    "myname(\"Nayem\")\n",
    "myname(\"Rahim\")\n",
    "    "
   ]
  },
  {
   "cell_type": "markdown",
   "id": "f8c42686",
   "metadata": {},
   "source": [
    "We can call a function by using the following types of formal arguments −\n",
    "- Required arguments\n",
    "- Keyword arguments\n",
    "- Default arguments\n",
    "- Variable-length arguments\n",
    "\n",
    "### Required arguments\n",
    "The arguments passed to a function in the right positional order are known as required arguments. The number of arguments in the function call should exactly match the number of arguments in the function declaration.To call the function <b>myname()</b>, we definitely need to pass one argument, otherwise it gives a syntax error as follows −"
   ]
  },
  {
   "cell_type": "code",
   "execution_count": 1,
   "id": "820c61b7",
   "metadata": {},
   "outputs": [
    {
     "ename": "TypeError",
     "evalue": "myname() missing 1 required positional argument: 'name'",
     "output_type": "error",
     "traceback": [
      "\u001b[1;31m---------------------------------------------------------------------------\u001b[0m",
      "\u001b[1;31mTypeError\u001b[0m                                 Traceback (most recent call last)",
      "\u001b[1;32m~\\AppData\\Local\\Temp/ipykernel_12956/677303058.py\u001b[0m in \u001b[0;36m<module>\u001b[1;34m\u001b[0m\n\u001b[0;32m      2\u001b[0m     \u001b[0mprint\u001b[0m\u001b[1;33m(\u001b[0m\u001b[0mname\u001b[0m\u001b[1;33m+\u001b[0m\u001b[1;34m\" Ahmed\"\u001b[0m\u001b[1;33m)\u001b[0m\u001b[1;33m\u001b[0m\u001b[1;33m\u001b[0m\u001b[0m\n\u001b[0;32m      3\u001b[0m     \u001b[1;32mreturn\u001b[0m\u001b[1;33m\u001b[0m\u001b[1;33m\u001b[0m\u001b[0m\n\u001b[1;32m----> 4\u001b[1;33m \u001b[0mmyname\u001b[0m\u001b[1;33m(\u001b[0m\u001b[1;33m)\u001b[0m\u001b[1;33m\u001b[0m\u001b[1;33m\u001b[0m\u001b[0m\n\u001b[0m",
      "\u001b[1;31mTypeError\u001b[0m: myname() missing 1 required positional argument: 'name'"
     ]
    }
   ],
   "source": [
    "def myname(name):\n",
    "    print(name+\" Ahmed\")\n",
    "    return\n",
    "myname()"
   ]
  },
  {
   "cell_type": "markdown",
   "id": "ed6606e7",
   "metadata": {},
   "source": [
    "### Keyword arguments\n",
    "The function calls are related to keyword arguments. When we use keyword arguments in a function call, the caller uses the parameter name to identify the arguments.We can make keyword calls to the <b>printme()</b> function in the following ways −"
   ]
  },
  {
   "cell_type": "code",
   "execution_count": 3,
   "id": "a063d4ba",
   "metadata": {},
   "outputs": [
    {
     "name": "stdout",
     "output_type": "stream",
     "text": [
      "Hi from function\n"
     ]
    }
   ],
   "source": [
    "def printme(str):\n",
    "    print(str)\n",
    "    return\n",
    "printme(str=\"Hi from function\")"
   ]
  },
  {
   "cell_type": "markdown",
   "id": "7cb85c1e",
   "metadata": {},
   "source": [
    "The example below provides a clearer idea.Note that the order of parameters does not matter."
   ]
  },
  {
   "cell_type": "code",
   "execution_count": 6,
   "id": "a103c1c9",
   "metadata": {},
   "outputs": [
    {
     "name": "stdout",
     "output_type": "stream",
     "text": [
      "Name : Sayem\n",
      "Age :  20\n"
     ]
    }
   ],
   "source": [
    "def printinfo(name,age):\n",
    "    print(\"Name : \"+name)\n",
    "    print(\"Age : \",age)\n",
    "    return\n",
    "printinfo(age=20,name=\"Sayem\")"
   ]
  },
  {
   "cell_type": "markdown",
   "id": "87612358",
   "metadata": {},
   "source": [
    "### Default arguments\n",
    "A default argument is one that is given a default value if no value is specified in the function call for that argument.he following example gives an idea on default arguments, it prints default age if it is not specified −"
   ]
  },
  {
   "cell_type": "code",
   "execution_count": 11,
   "id": "3ec8d639",
   "metadata": {},
   "outputs": [
    {
     "name": "stdout",
     "output_type": "stream",
     "text": [
      "Name : Sayem\n",
      "Age :  20\n",
      "Name : Saju\n",
      "Age :  40\n"
     ]
    }
   ],
   "source": [
    "def printinfo(name,age=40):\n",
    "    print(\"Name : \"+name)\n",
    "    print(\"Age : \",age) \n",
    "    return\n",
    "printinfo(\"Sayem\",20)\n",
    "printinfo(\"Saju\")"
   ]
  },
  {
   "cell_type": "markdown",
   "id": "5948dde7",
   "metadata": {},
   "source": [
    "### Variable-length arguments\n",
    "It's possible that we will need to process a function for more arguments than we provided when we defined it.These arguments are called variable-length arguments.If we do not know how many arguments that will be passed into your function, add a * before the parameter name in the function definition.This way the function will receive a tuple of arguments, and if we add two asterisk: ** before the parameter name in the function definition,this way the function will receive a dictionary of arguments, and can access the items accordingly."
   ]
  },
  {
   "cell_type": "code",
   "execution_count": 14,
   "id": "f3e16fb4",
   "metadata": {},
   "outputs": [
    {
     "name": "stdout",
     "output_type": "stream",
     "text": [
      "('Messi', 'Ronaldo', 'Neymar', 'Beckham')\n"
     ]
    }
   ],
   "source": [
    "#Example1\n",
    "def players(*name):\n",
    "    print(name)\n",
    "    return\n",
    "players(\"Messi\",\"Ronaldo\",\"Neymar\",\"Beckham\")"
   ]
  },
  {
   "cell_type": "code",
   "execution_count": 16,
   "id": "a33424e4",
   "metadata": {},
   "outputs": [
    {
     "name": "stdout",
     "output_type": "stream",
     "text": [
      "{'Player1': 'Messi', 'Player2': 'Ronaldo', 'Player3': 'Neymar'}\n"
     ]
    }
   ],
   "source": [
    "#Example2\n",
    "def players(**name):\n",
    "    print(name)\n",
    "    return\n",
    "players(Player1=\"Messi\",Player2=\"Ronaldo\",Player3=\"Neymar\")"
   ]
  },
  {
   "cell_type": "markdown",
   "id": "226c67cf",
   "metadata": {},
   "source": [
    "### Passing a List as an Argument\n",
    "Any data type of argument (string, integer, list, dictionary, etc.) can be passed to a function, and it will be treated as the same data type inside the function.E.g. if we send a List as an argument, it will still be a List when it reaches the function:"
   ]
  },
  {
   "cell_type": "code",
   "execution_count": 27,
   "id": "973d0b1b",
   "metadata": {},
   "outputs": [
    {
     "name": "stdout",
     "output_type": "stream",
     "text": [
      "Messi\n",
      "Ronaldo\n",
      "Neymar\n"
     ]
    }
   ],
   "source": [
    "def player(name):\n",
    "    for x in name:\n",
    "        print(x)\n",
    "    return  \n",
    "    \n",
    "name1=[\"Messi\",\"Ronaldo\",\"Neymar\"]\n",
    "\n",
    "player(name1)"
   ]
  },
  {
   "cell_type": "markdown",
   "id": "f72edd9f",
   "metadata": {},
   "source": [
    "## Lambda Function\n",
    "A lambda function is a small anonymous function.A lambda function can take any number of arguments, but can only have one expression.These functions are also called anonymous because they are not declared in the standard manner by using the def keyword.We can use the <b>lambda</b> keyword to create Lambda function.\n"
   ]
  },
  {
   "cell_type": "code",
   "execution_count": 32,
   "id": "e9c27d41",
   "metadata": {},
   "outputs": [
    {
     "name": "stdout",
     "output_type": "stream",
     "text": [
      "Sum :  33\n",
      "Sum :  50\n"
     ]
    }
   ],
   "source": [
    "sum = lambda a,b : a+b\n",
    "print(\"Sum : \",sum(11,22))\n",
    "print(\"Sum : \",sum(30,20))"
   ]
  },
  {
   "cell_type": "markdown",
   "id": "220c057d",
   "metadata": {},
   "source": [
    "## The return Statement\n",
    "The statement <b>return</b> exits a function, with the caller receiving an optional expression. The same as return None is a <b>return</b> statement with no arguments.To let a function return a value, use the return statement:"
   ]
  },
  {
   "cell_type": "code",
   "execution_count": 31,
   "id": "5eb0b88f",
   "metadata": {},
   "outputs": [
    {
     "name": "stdout",
     "output_type": "stream",
     "text": [
      "20\n",
      "30\n"
     ]
    }
   ],
   "source": [
    "def print_value(x):\n",
    "    return 10*x\n",
    "print(print_value(2))\n",
    "print(print_value(3))"
   ]
  },
  {
   "cell_type": "markdown",
   "id": "37f6819f",
   "metadata": {},
   "source": [
    "## Scope of Variables\n",
    "It's possible that not all variables in a program will be available at all times. This is dependent by where you declared the variable.There are two basic scopes of variables in Python −\n",
    "- Global variables\n",
    "- Local variables"
   ]
  },
  {
   "cell_type": "markdown",
   "id": "a62291ed",
   "metadata": {},
   "source": [
    "### Global vs. Local variables\n",
    "Variables that are defined inside a function body have a local scope, and those defined outside have a global scope."
   ]
  },
  {
   "cell_type": "code",
   "execution_count": 36,
   "id": "37341b8a",
   "metadata": {},
   "outputs": [
    {
     "name": "stdout",
     "output_type": "stream",
     "text": [
      "Inside the function local total :  40\n",
      "Outside the function global total :  0\n"
     ]
    }
   ],
   "source": [
    "total = 0; # This is global variable.\n",
    "# Function definition is here\n",
    "def sum( x, y):\n",
    "   # Add both the parameters and return them.\"\n",
    "   total = x + y; # Here total is local variable.\n",
    "   print(\"Inside the function local total : \", total)\n",
    "   return\n",
    "\n",
    "# Now you can call sum function\n",
    "sum( 20, 20 );\n",
    "print(\"Outside the function global total : \", total)"
   ]
  },
  {
   "cell_type": "markdown",
   "id": "4248f711",
   "metadata": {},
   "source": [
    "## Recursion\n",
    "Python also accepts function recursion, which means a defined function can call itself.Recursion is a mathematics and programming concept that is widely used. It denotes that a function is called by itself. This has the advantage of allowing you to loop through data to reach a conclusion."
   ]
  },
  {
   "cell_type": "code",
   "execution_count": 39,
   "id": "45e31494",
   "metadata": {},
   "outputs": [
    {
     "name": "stdout",
     "output_type": "stream",
     "text": [
      "\n",
      "\n",
      "Recursion Example Results\n",
      "1\n",
      "3\n",
      "6\n",
      "10\n",
      "15\n"
     ]
    },
    {
     "data": {
      "text/plain": [
       "15"
      ]
     },
     "execution_count": 39,
     "metadata": {},
     "output_type": "execute_result"
    }
   ],
   "source": [
    "def tri_recursion(k):\n",
    "  if(k > 0):\n",
    "    result = k + tri_recursion(k - 1)\n",
    "    print(result)\n",
    "  else:\n",
    "    result = 0\n",
    "  return result\n",
    "\n",
    "print(\"\\n\\nRecursion Example Results\")\n",
    "tri_recursion(5)"
   ]
  },
  {
   "cell_type": "code",
   "execution_count": null,
   "id": "47f44e8d",
   "metadata": {},
   "outputs": [],
   "source": []
  }
 ],
 "metadata": {
  "kernelspec": {
   "display_name": "Python 3 (ipykernel)",
   "language": "python",
   "name": "python3"
  },
  "language_info": {
   "codemirror_mode": {
    "name": "ipython",
    "version": 3
   },
   "file_extension": ".py",
   "mimetype": "text/x-python",
   "name": "python",
   "nbconvert_exporter": "python",
   "pygments_lexer": "ipython3",
   "version": "3.9.7"
  }
 },
 "nbformat": 4,
 "nbformat_minor": 5
}
