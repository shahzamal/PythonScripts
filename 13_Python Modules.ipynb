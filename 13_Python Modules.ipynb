{
 "cells": [
  {
   "cell_type": "markdown",
   "id": "1eb79ebf",
   "metadata": {},
   "source": [
    "# Modules\n",
    "A module is a file consisting of Python code.A file containing a set of functions we want to include in our application.A module can define functions, classes and variables. A module can also include runnable code.\n",
    "## Create a Module\n",
    "To create a module just save the code we want in a file with the file extension .py:<br>\n",
    "Save this following code in a file named <b>module.py</b><br>\n",
    "<b>def</b> printinfo(name):<br>\n",
    "     &nbsp; &nbsp; &nbsp; &nbsp;<b>print</b>(\"Hello \",name)<br>\n",
    "## Use a Module\n",
    "Now we can use the module we just created, by using the <b>import</b> statement.Import the module named module, and call the printinfo function:"
   ]
  },
  {
   "cell_type": "code",
   "execution_count": 21,
   "id": "69bd27b0",
   "metadata": {},
   "outputs": [
    {
     "name": "stdout",
     "output_type": "stream",
     "text": [
      "Hello  Sayem\n"
     ]
    }
   ],
   "source": [
    "import module\n",
    "module.printinfo(\"Sayem\")"
   ]
  },
  {
   "cell_type": "markdown",
   "id": "66b7fb3f",
   "metadata": {},
   "source": [
    "<b>Note:</b> When using a function from a module, use the syntax: module_name.function_name."
   ]
  },
  {
   "cell_type": "markdown",
   "id": "6de6f60c",
   "metadata": {},
   "source": [
    "## Variables in Module\n",
    "The module can contain functions, as already described, but also variables of all types (arrays, dictionaries, objects etc)<br>\n",
    "Save this following code in the file module2.py<br>\n",
    "<br>\n",
    "personinfo = {\n",
    "    <p style=\"color:red;\"> &nbsp; &nbsp;&nbsp;\"name\": \"Sayem\",<br>\n",
    "     &nbsp; &nbsp;&nbsp;\"age\": 22,<br>\n",
    "     &nbsp; &nbsp;&nbsp;\"country\": \"Bangladesh\"</p>\n",
    "}"
   ]
  },
  {
   "cell_type": "code",
   "execution_count": 23,
   "id": "a46d16a5",
   "metadata": {},
   "outputs": [
    {
     "data": {
      "text/plain": [
       "{'name': 'Sayem', 'age': 22, 'country': 'Bangladesh'}"
      ]
     },
     "execution_count": 23,
     "metadata": {},
     "output_type": "execute_result"
    }
   ],
   "source": [
    "import module2\n",
    "module2.personinfo"
   ]
  },
  {
   "cell_type": "markdown",
   "id": "b1925398",
   "metadata": {},
   "source": [
    "## Re-naming a Module\n",
    "We can create an alias when we import a module, by using the as keyword.Create an alias for module called x:"
   ]
  },
  {
   "cell_type": "code",
   "execution_count": 24,
   "id": "a587cb64",
   "metadata": {},
   "outputs": [
    {
     "name": "stdout",
     "output_type": "stream",
     "text": [
      "Hello  Sayem\n"
     ]
    }
   ],
   "source": [
    "import module as x\n",
    "x.printinfo(\"Sayem\")"
   ]
  },
  {
   "cell_type": "markdown",
   "id": "3f2b2856",
   "metadata": {},
   "source": [
    "## Built-in Modules\n",
    "There are several built-in modules in Python, which we can import whenever we like."
   ]
  },
  {
   "cell_type": "code",
   "execution_count": 25,
   "id": "5e45cc73",
   "metadata": {},
   "outputs": [
    {
     "name": "stdout",
     "output_type": "stream",
     "text": [
      "Windows\n"
     ]
    }
   ],
   "source": [
    "import platform\n",
    "x = platform.system()\n",
    "print(x)"
   ]
  },
  {
   "cell_type": "markdown",
   "id": "1b9a1ebb",
   "metadata": {},
   "source": [
    "## Using the dir() Function\n",
    "There is a built-in function to list all the function names (or variable names) in a module. The <b>dir()</b> function:\n"
   ]
  },
  {
   "cell_type": "code",
   "execution_count": 26,
   "id": "d302995b",
   "metadata": {},
   "outputs": [
    {
     "name": "stdout",
     "output_type": "stream",
     "text": [
      "['_Processor', '_WIN32_CLIENT_RELEASES', '_WIN32_SERVER_RELEASES', '__builtins__', '__cached__', '__copyright__', '__doc__', '__file__', '__loader__', '__name__', '__package__', '__spec__', '__version__', '_comparable_version', '_component_re', '_default_architecture', '_follow_symlinks', '_get_machine_win32', '_ironpython26_sys_version_parser', '_ironpython_sys_version_parser', '_java_getprop', '_libc_search', '_mac_ver_xml', '_node', '_norm_version', '_platform', '_platform_cache', '_pypy_sys_version_parser', '_sys_version', '_sys_version_cache', '_sys_version_parser', '_syscmd_file', '_syscmd_ver', '_uname_cache', '_unknown_as_blank', '_ver_output', '_ver_stages', 'architecture', 'collections', 'functools', 'itertools', 'java_ver', 'libc_ver', 'mac_ver', 'machine', 'node', 'os', 'platform', 'processor', 'python_branch', 'python_build', 'python_compiler', 'python_implementation', 'python_revision', 'python_version', 'python_version_tuple', 're', 'release', 'subprocess', 'sys', 'system', 'system_alias', 'uname', 'uname_result', 'version', 'win32_edition', 'win32_is_iot', 'win32_ver']\n"
     ]
    }
   ],
   "source": [
    "import platform\n",
    "\n",
    "x = dir(platform)\n",
    "print(x)"
   ]
  },
  {
   "cell_type": "markdown",
   "id": "31611af5",
   "metadata": {},
   "source": [
    "## Import From Module\n",
    "We can choose to import only parts from a module, by using the <b>from</b> keyword.Import only the personinfo dictionary from the module:"
   ]
  },
  {
   "cell_type": "code",
   "execution_count": 27,
   "id": "448b1a8e",
   "metadata": {},
   "outputs": [
    {
     "name": "stdout",
     "output_type": "stream",
     "text": [
      "{'name': 'Sayem', 'age': 22, 'country': 'Bangladesh'}\n"
     ]
    }
   ],
   "source": [
    "from module3 import personinfo\n",
    "print(personinfo) "
   ]
  },
  {
   "cell_type": "markdown",
   "id": "cdfb7d84",
   "metadata": {},
   "source": [
    "<b>Note:</b> When importing using the from keyword, do not use the module name when referring to elements in the module. Example: personinfo[\"age\"], <b>not</b> <del>mymodule.personinfo[\"age\"]</del>"
   ]
  },
  {
   "cell_type": "code",
   "execution_count": null,
   "id": "b95433e8",
   "metadata": {},
   "outputs": [],
   "source": []
  }
 ],
 "metadata": {
  "kernelspec": {
   "display_name": "Python 3 (ipykernel)",
   "language": "python",
   "name": "python3"
  },
  "language_info": {
   "codemirror_mode": {
    "name": "ipython",
    "version": 3
   },
   "file_extension": ".py",
   "mimetype": "text/x-python",
   "name": "python",
   "nbconvert_exporter": "python",
   "pygments_lexer": "ipython3",
   "version": "3.9.7"
  }
 },
 "nbformat": 4,
 "nbformat_minor": 5
}
