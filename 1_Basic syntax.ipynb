{
 "cells": [
  {
   "cell_type": "markdown",
   "id": "84f2204d",
   "metadata": {},
   "source": [
    "## Write some features and benifit of python - MD\n",
    "Python is one of the most widely used language.Let us take a look at some of the key features of Python: \n",
    "- Easy-to-learn\n",
    "- Easy-to-read\n",
    "- Interpreted Language\n",
    "- Dynamically Typed Language\n",
    "- Open Source And Free\n",
    "- Large Standard Library\n",
    "- High-Level Language\n",
    "- Object Oriented Programming Language\n",
    "- Large Community Support\n",
    "- Platform Independent\n",
    "- Extensible and Embeddable\n",
    "- Graphical User Interface (GUI) Support\n",
    "\n",
    "### Benefits of Learning Python\n",
    "Python programming is a general-purpose skill used in almost all fields, including:\n",
    "- Data science\n",
    "- Scientific and mathematical computing\n",
    "- Web development\n",
    "- Finance and trading\n",
    "- System automation and administration\n",
    "- Computer graphics\n",
    "- Basic game development\n",
    "- Security and penetration testing\n",
    "- Mapping and geography (GIS software)\n",
    "\n",
    "### Python Demands\n",
    "Companies increased their data science and analytics hiring this year, according to Forbes.We can fill one of those jobs if we learn Python programming.\n",
    "#### Earning Potential\n",
    "According to <b>Indeed</b>, Python is the second-highest paid computer language. An annual compensation of USD 110,026 is to be expected.\n",
    "#### Ease of Comprehension\n",
    "Python is one of the most popular programming languages because it is simple to learn and entertaining to use. Because its syntax is more like English than other computer languages, it is less stressful to learn than other programming languages.And to top it all off, it’s free and open-sourced. \n",
    "#### Flexibility\n",
    "Python is not only simple to learn, but it is extremely versatile. Python can be used for machine learning, web processing, and even biology, thanks to over 125,000 third-party Python modules.Its data-focused libraries, like as pandas, NumPy, and matplotlib, make it extremely capable of processing, manipulating, and visualizing data, which is why it is so popular in data analysis.\n",
    "#### Python Security\n",
    "Python programming is not only simple to learn, but thanks to the <b>OWASP Python Security Project</b>, it is also one of the most secure computer programming languages. This project helps programmers in developing a \"hardened version\" of their code that is more resistant to attacks and manipulations.People can freely use the code OWASP programmers have developed because it’s open-sourced.All we need to do is attribute it, then we can modify and use the proprietary forks of the project as we like."
   ]
  },
  {
   "cell_type": "code",
   "execution_count": 1,
   "id": "8ccc6dcd",
   "metadata": {
    "scrolled": false
   },
   "outputs": [
    {
     "name": "stdout",
     "output_type": "stream",
     "text": [
      "Hello testing operation\n"
     ]
    }
   ],
   "source": [
    "#This is printing hello\n",
    "print(\"Hello testing operation\")"
   ]
  },
  {
   "cell_type": "markdown",
   "id": "78dd8895",
   "metadata": {},
   "source": [
    "# python basic syntax \n",
    "-A python identifer indicates name of variable, function, class, module or other object. It starts with a letter A to Z or a to z or an underscore (_) followed by zero or more letters, underscores and digits (0 to 9).Python is a case sensitive programming language.\n",
    "Class names start with an uppercase letter and others identifers will be lowercase letter.Starting with a single underscroe means that identifer will is private and with double underscore means storngly private indentifer.If a identifier also ends with two trailing underscores, the identifier is a language-defined special name.\n"
   ]
  },
  {
   "cell_type": "markdown",
   "id": "9a8d7a8a",
   "metadata": {},
   "source": [
    "# Reserved words\n",
    "These following words are python keywords and cant's be use as indentifer name and keywords contain only lowercase latters only:\n",
    "\n",
    "|1||2||3|\n",
    "|:---------||:------------||:-----------|\n",
    "|not||elif||raise|\n",
    "|in||import||global|  \n",
    "|try||del||continue|\n",
    "|while||return||print|\n",
    "|else||if||from|\n",
    "|is| |def||class|\n",
    "|with||pass||for|\n",
    "|except||break||or|\n",
    "|lambda||finally||assert|\n",
    "|yield||exec||and|\n"
   ]
  },
  {
   "cell_type": "markdown",
   "id": "795ed519",
   "metadata": {},
   "source": [
    "# Lines and Indentation\n",
    "Python provides no braces to indicate blocks of code for class and function definitions or flow control.The number of spaces in the indentation is variable, but all statements within the block must be indented the same amount.\n",
    "\n",
    "Example:\n",
    "\n",
    "```python\n",
    "if True:\n",
    "   print(\"True\")\n",
    "else:\n",
    "   print(\"False\")\n",
    "\n",
    "```\n",
    "\n",
    "However, the following block generates an error:\n",
    "\n",
    "if True:<br>\n",
    "print \"Answer\"<br>\n",
    "print \"True\"<br>\n",
    "else:<br>\n",
    "print \"Answer\"<br>\n",
    "print \"False\"<br>"
   ]
  },
  {
   "cell_type": "markdown",
   "id": "161fd9ab",
   "metadata": {},
   "source": [
    "# Multi-Line Statements\n",
    "Statements in Python typically end with a new line. Python does, however, allow the use of the line continuation character to denote that the line should continue.Statements contained within the [], {}, or () brackets do not need to use the line continuation character. \\\n",
    "Example: days =['Sunday','Monday','Tuesday']\n"
   ]
  },
  {
   "cell_type": "markdown",
   "id": "e341eebe",
   "metadata": {},
   "source": [
    "# Comments in Python\n",
    "All characters after the  #  and up to the end of the physical line are part of the comment and the Python interpreter ignores them."
   ]
  },
  {
   "cell_type": "code",
   "execution_count": 38,
   "id": "4551aeb6",
   "metadata": {},
   "outputs": [
    {
     "name": "stdout",
     "output_type": "stream",
     "text": [
      "Hello\n"
     ]
    }
   ],
   "source": [
    "#This is a comment\n",
    "print(\"Hello\")"
   ]
  },
  {
   "cell_type": "code",
   "execution_count": 39,
   "id": "7cf834d2",
   "metadata": {},
   "outputs": [
    {
     "name": "stdout",
     "output_type": "stream",
     "text": [
      "Hello comments\n"
     ]
    }
   ],
   "source": [
    "#Multi line comments1\n",
    "#Multi line comments2\n",
    "#Multi line comments3\n",
    "#Multi line comments4\n",
    "print(\"Hello comments\")"
   ]
  },
  {
   "cell_type": "code",
   "execution_count": 40,
   "id": "bd22fbc6",
   "metadata": {},
   "outputs": [
    {
     "name": "stdout",
     "output_type": "stream",
     "text": [
      "Hello world\n"
     ]
    }
   ],
   "source": [
    "'''This is also multi line comments'''\n",
    "print(\"Hello world\")"
   ]
  },
  {
   "cell_type": "markdown",
   "id": "39e58b29",
   "metadata": {},
   "source": [
    "# Using Blank Lines\n",
    "Python totally ignores A line containing only whitespace."
   ]
  },
  {
   "cell_type": "markdown",
   "id": "46715458",
   "metadata": {},
   "source": [
    "# Multiple Statement On Single Line\n",
    "The semicolon ( ; ) allows multiple statements on the single line given that neither statement starts a new code block.\n",
    "Example:                                                                                                                \n"
   ]
  },
  {
   "cell_type": "code",
   "execution_count": 36,
   "id": "f9f7c61b",
   "metadata": {},
   "outputs": [
    {
     "data": {
      "text/html": [
       "import sys; x = 'foo'; sys.stdout.write(x + '\\n')\n"
      ],
      "text/plain": [
       "<IPython.core.display.HTML object>"
      ]
     },
     "metadata": {},
     "output_type": "display_data"
    }
   ],
   "source": [
    "%%HTML\n",
    "import sys; x = 'foo'; sys.stdout.write(x + '\\n')"
   ]
  }
 ],
 "metadata": {
  "kernelspec": {
   "display_name": "Python 3 (ipykernel)",
   "language": "python",
   "name": "python3"
  },
  "language_info": {
   "codemirror_mode": {
    "name": "ipython",
    "version": 3
   },
   "file_extension": ".py",
   "mimetype": "text/x-python",
   "name": "python",
   "nbconvert_exporter": "python",
   "pygments_lexer": "ipython3",
   "version": "3.9.7"
  }
 },
 "nbformat": 4,
 "nbformat_minor": 5
}
