{
 "cells": [
  {
   "cell_type": "markdown",
   "id": "b5896d46",
   "metadata": {},
   "source": [
    "# Date & Time\n",
    "A Python program can work with date and time in a variety of ways. For computers, converting between date formats is a typical task. The time and calendar modules in Python are useful for keeping track of dates and timings.\n",
    "\n",
    "### What is tick?\n",
    "Tick in Python represents floating-point numbers in units of seconds for time intervals.Particular instants in time are expressed in seconds since 12:00am, January 1, 1970(epoch).The time module contains functions for working with times and converting between different representations.For example,"
   ]
  },
  {
   "cell_type": "code",
   "execution_count": 3,
   "id": "1bc01fdd",
   "metadata": {},
   "outputs": [
    {
     "name": "stdout",
     "output_type": "stream",
     "text": [
      "Tick since 12:00am, January 1, 1970:  1646197447.327659\n"
     ]
    }
   ],
   "source": [
    "import time\n",
    "tick = time.time()\n",
    "print(\"Tick since 12:00am, January 1, 1970: \", tick)"
   ]
  },
  {
   "cell_type": "markdown",
   "id": "2f46847e",
   "metadata": {},
   "source": [
    "Ticks make date calculations simple. Dates before to the epoch, on the other hand, are not represented in this way.\n",
    "### What is TimeTuple?\n",
    "Many of Python's time functions handle time as a tuple of 9 numbers, as shown below −\n",
    "\n",
    "|Index||Field||Values|\n",
    "|:---||:---||:----|\n",
    "|0||4-digit year||2020|\n",
    "|1||Month||1 to 12|\n",
    "|2||Day||1 to 31|\n",
    "|3||Hour||0 to 23|\n",
    "|4||Minute||0 to 59|\n",
    "|5||Second||0 to 61 (60 or 61 are leap-seconds)|\n",
    "|6||Day of Week||0 to 6 (0 is Monday)|\n",
    "|7||Day of year||1 to 366 (Julian day)|\n",
    "|8||Daylight savings||-1, 0, 1, -1 means library determines DST|\n",
    "\n",
    "The above tuple is equivalent to struct_time structure. This structure has following attributes −\n",
    "\n",
    "|Index||Attributes||Values|\n",
    "|:---||:---||:----|\n",
    "|0||tm_year||2020|\n",
    "|1||tm_mon||1 to 12|\n",
    "|2||tm_mday||1 to 31|\n",
    "|3||tm_hour||0 to 23|\n",
    "|4||tm_min||0 to 59|\n",
    "|5||tm_sec||0 to 61 (60 or 61 are leap-seconds)|\n",
    "|6||tm_wday||0 to 6 (0 is Monday)|\n",
    "|7||tm_yday||1 to 366 (Julian day)|\n",
    "|8||tm_isdst||-1, 0, 1, -1 means library determines DST|\n",
    "\n",
    "### Getting current time\n",
    "Pass the floating-point value to a function (e.g., localtime) that returns a time-tuple with all nine items valid to convert a time instant from a seconds since the epoch floating-point value to a time-tuple.For example:\n"
   ]
  },
  {
   "cell_type": "code",
   "execution_count": 4,
   "id": "0fdb01f2",
   "metadata": {},
   "outputs": [
    {
     "name": "stdout",
     "output_type": "stream",
     "text": [
      "Local current time : time.struct_time(tm_year=2022, tm_mon=3, tm_mday=2, tm_hour=11, tm_min=33, tm_sec=50, tm_wday=2, tm_yday=61, tm_isdst=0)\n"
     ]
    }
   ],
   "source": [
    "import time;\n",
    "\n",
    "localtime = time.localtime(time.time())\n",
    "print(\"Local current time :\", localtime)"
   ]
  },
  {
   "cell_type": "markdown",
   "id": "d6019151",
   "metadata": {},
   "source": [
    "### Getting formatted time\n",
    "We can format any time as per our requirement, but simple method to get time in readable format is asctime() −"
   ]
  },
  {
   "cell_type": "code",
   "execution_count": 5,
   "id": "8cf44296",
   "metadata": {},
   "outputs": [
    {
     "name": "stdout",
     "output_type": "stream",
     "text": [
      "Local current time : Wed Mar  2 11:35:45 2022\n"
     ]
    }
   ],
   "source": [
    "import time;\n",
    "\n",
    "localtime = time.asctime( time.localtime(time.time()) )\n",
    "print(\"Local current time :\", localtime)"
   ]
  },
  {
   "cell_type": "markdown",
   "id": "ea59bfc2",
   "metadata": {},
   "source": [
    "### Getting calendar for a month\n",
    "The calendar module provides a variety of ways to deal with yearly and monthly calendars.Here, we print a calendar for a given month(March 2022)-"
   ]
  },
  {
   "cell_type": "code",
   "execution_count": 6,
   "id": "33020510",
   "metadata": {},
   "outputs": [
    {
     "name": "stdout",
     "output_type": "stream",
     "text": [
      "Here is the calendar:\n",
      "     March 2022\n",
      "Mo Tu We Th Fr Sa Su\n",
      "    1  2  3  4  5  6\n",
      " 7  8  9 10 11 12 13\n",
      "14 15 16 17 18 19 20\n",
      "21 22 23 24 25 26 27\n",
      "28 29 30 31\n",
      "\n"
     ]
    }
   ],
   "source": [
    "import calendar\n",
    "\n",
    "cal = calendar.month(2022, 3)\n",
    "print(\"Here is the calendar:\")\n",
    "print(cal)"
   ]
  },
  {
   "cell_type": "markdown",
   "id": "f6584d5d",
   "metadata": {},
   "source": [
    "## The time Module\n",
    "In Python, there is a popular time module that has functions for working with times and converting between representations.Here is the list of all available methods −\n",
    "\n",
    "|Serial No.||Function||Description|\n",
    "|:---||:---||:---|\n",
    "|1||time.altzone||The offset of the local DST timezone, in seconds west of UTC, if one is defined. This is <br>negative if the local DST timezone is east of UTC (as in Western Europe, including the <br>UK). Only use this if daylight is nonzero.|\n",
    "|2||time.asctime([tupletime])||Accepts a time-tuple and returns a readable 24-character string such as \"Wed Mar  2 <br>11:35:45 2022\"|\n",
    "|3||time.clock( )||Returns the current CPU time as a floating-point number of seconds. To measure <br>computational costs of different approaches, the value of time.clock is more useful than <br>that of time.time().|\n",
    "|4||time.ctime([secs])||Like asctime(localtime(secs)) and without arguments is like asctime( )|\n",
    "|5||time.gmtime([secs])||Accepts an instant expressed in seconds since the epoch and returns a time-tuple t with <br>the UTC time. Note : t.tm_isdst is always 0|\n",
    "|6||time.localtime([secs])||Accepts an instant expressed in seconds since the epoch and returns a time-tuple t with <br>the local time (t.tm_isdst is 0 or 1, depending on whether DST applies to instant secs by <br>local rules).|\n",
    "|7||time.mktime(tupletime)||Accepts an instant expressed as a time-tuple in local time and returns a floating-point <br>value with the instant expressed in seconds since the epoch.|\n",
    "|8||time.sleep(secs)||Suspends the calling thread for secs seconds.|\n",
    "|9||time.strftime(fmt[,tupletime])||Accepts an instant expressed as a time-tuple in local time and returns a string <br>representing the instant as specified by string fmt.|\n",
    "|10||time.strptime(str,fmt='%a %b %d %H:%M:%S %Y')||Parses str according to format string fmt and returns the instant in time-tuple format.|\n",
    "|11||time.time( )||Returns the current time instant, a floating-point number of seconds since the epoch.|\n",
    "|12||time.tzset()||Resets the time conversion rules used by the library routines. The environment variable <br>TZ specifies how this is done.|\n",
    "\n",
    "There are following two important attributes available with time module −\n",
    "\n",
    "|Serial No.||Attribute||Description|\n",
    "|:---||:---||:---|\n",
    "|1||time.timezone||Attribute time.timezone is the offset in seconds of the local time zone (without DST) from <br>UTC (>0 in the Americas; <=0 in most of Europe, Asia, Africa).|\n",
    "|2||time.tzname||Attribute time.tzname is a pair of locale-dependent strings, which are the names of the <br>local time zone without and with DST, respectively.|\n",
    "\n",
    "## The calendar Module\n",
    "The calendar module supplies calendar-related functions, including functions to print a text calendar for a given month or year.Here is a list of functions available with the calendar module −\n",
    "\n",
    "|Serial No.||Function||Description|\n",
    "|:---||:---||:---|\n",
    "|1||calendar.calendar(year,w=2,l=1,c=6)||Returns a multiline string with a calendar for year year formatted into three columns<br> separated by c spaces. w is the width in characters of each date; each line has length <br>21*w+18+2*c. l is the number of lines for each week.|\n",
    "|2||calendar.firstweekday( )||Returns the current setting for the weekday that starts each week. By default, when <br>calendar is first imported, this is 0, meaning Monday.|\n",
    "|3||calendar.isleap(year)||Returns True if year is a leap year; otherwise, False.|\n",
    "|4||calendar.leapdays(y1,y2)||Returns the total number of leap days in the years within range(y1,y2).|\n",
    "|5||calendar.month(year,month,w=2,l=1)||Returns a multiline string with a calendar for month month of year year, one line per <br>week plus two header lines. w is the width in characters of each date; each line has <br>length 7* w+6. l is the number of lines for each week.|\n",
    "|6||calendar.monthcalendar(year,month)||Returns a list of lists of ints. Each sublist denotes a week. Days outside month month of <br>year year are set to 0; days within the month are set to their day-of-month, 1 and up.|\n",
    "|7||calendar.monthrange(year,month)||Returns two integers. The first one is the code of the weekday for the first day of the <br>month month in year year; the second one is the number of days in the month. Weekday <br>codes are 0 (Monday) to 6 (Sunday); month numbers are 1 to 12.|\n",
    "|8||calendar.prcal(year,w=2,l=1,c=6)||Like print calendar.calendar(year,w,l,c).|\n",
    "|9||calendar.prmonth(year,month,w=2,l=1)||Like print calendar.month(year,month,w,l).|\n",
    "|10||calendar.setfirstweekday(weekday)||Sets the first day of each week to weekday code weekday. Weekday codes are 0 <br>(Monday) to 6 (Sunday).|\n",
    "|11||calendar.timegm(tupletime)||The inverse of time.gmtime: accepts a time instant in time-tuple form and returns the <br>same instant as a floating-point number of seconds since the epoch.|\n",
    "|12||calendar.weekday(year,month,day)||Returns the weekday code for the given date. Weekday codes are 0 (Monday) to 6 <br>(Sunday); month numbers are 1 (January) to 12 (December).|"
   ]
  },
  {
   "cell_type": "code",
   "execution_count": null,
   "id": "ac0f169a",
   "metadata": {},
   "outputs": [],
   "source": []
  }
 ],
 "metadata": {
  "kernelspec": {
   "display_name": "Python 3 (ipykernel)",
   "language": "python",
   "name": "python3"
  },
  "language_info": {
   "codemirror_mode": {
    "name": "ipython",
    "version": 3
   },
   "file_extension": ".py",
   "mimetype": "text/x-python",
   "name": "python",
   "nbconvert_exporter": "python",
   "pygments_lexer": "ipython3",
   "version": "3.9.7"
  }
 },
 "nbformat": 4,
 "nbformat_minor": 5
}
